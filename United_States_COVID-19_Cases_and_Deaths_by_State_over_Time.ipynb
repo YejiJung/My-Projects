{
 "cells": [
  {
   "cell_type": "code",
   "execution_count": 1,
   "id": "6e460d29",
   "metadata": {},
   "outputs": [],
   "source": [
    "import numpy as np\n",
    "import pandas as pd\n",
    "import matplotlib.pyplot as plt\n",
    "import seaborn as sns\n",
    "import statistics as stats"
   ]
  },
  {
   "cell_type": "code",
   "execution_count": 2,
   "id": "2aa36bf3",
   "metadata": {},
   "outputs": [],
   "source": [
    "# 1 - Exploratory data analysis (EDA); identify the data types; conduct data cleansing and modification as needed; info re data types."
   ]
  },
  {
   "cell_type": "code",
   "execution_count": 3,
   "id": "aa466ae6",
   "metadata": {},
   "outputs": [
    {
     "data": {
      "text/plain": [
       "['submission_date',\n",
       " 'state',\n",
       " 'tot_cases',\n",
       " 'conf_cases',\n",
       " 'prob_cases',\n",
       " 'new_case',\n",
       " 'pnew_case',\n",
       " 'tot_death',\n",
       " 'conf_death',\n",
       " 'prob_death',\n",
       " 'new_death',\n",
       " 'pnew_death',\n",
       " 'created_at',\n",
       " 'consent_cases',\n",
       " 'consent_deaths']"
      ]
     },
     "execution_count": 3,
     "metadata": {},
     "output_type": "execute_result"
    }
   ],
   "source": [
    "# Read data\n",
    "\n",
    "COVID19 = pd.read_csv(\"~/Downloads/United_States_COVID-19_Cases_and_Deaths_by_State_over_Time.csv\")\n",
    "list(COVID19)"
   ]
  },
  {
   "cell_type": "code",
   "execution_count": 4,
   "id": "0685490f",
   "metadata": {},
   "outputs": [
    {
     "data": {
      "text/html": [
       "<div>\n",
       "<style scoped>\n",
       "    .dataframe tbody tr th:only-of-type {\n",
       "        vertical-align: middle;\n",
       "    }\n",
       "\n",
       "    .dataframe tbody tr th {\n",
       "        vertical-align: top;\n",
       "    }\n",
       "\n",
       "    .dataframe thead th {\n",
       "        text-align: right;\n",
       "    }\n",
       "</style>\n",
       "<table border=\"1\" class=\"dataframe\">\n",
       "  <thead>\n",
       "    <tr style=\"text-align: right;\">\n",
       "      <th></th>\n",
       "      <th>submission_date</th>\n",
       "      <th>state</th>\n",
       "      <th>tot_cases</th>\n",
       "      <th>conf_cases</th>\n",
       "      <th>prob_cases</th>\n",
       "      <th>new_case</th>\n",
       "      <th>pnew_case</th>\n",
       "      <th>tot_death</th>\n",
       "      <th>conf_death</th>\n",
       "      <th>prob_death</th>\n",
       "      <th>new_death</th>\n",
       "      <th>pnew_death</th>\n",
       "      <th>created_at</th>\n",
       "      <th>consent_cases</th>\n",
       "      <th>consent_deaths</th>\n",
       "    </tr>\n",
       "  </thead>\n",
       "  <tbody>\n",
       "    <tr>\n",
       "      <th>0</th>\n",
       "      <td>03/11/2021</td>\n",
       "      <td>KS</td>\n",
       "      <td>297,229</td>\n",
       "      <td>241,035</td>\n",
       "      <td>56,194</td>\n",
       "      <td>0</td>\n",
       "      <td>0</td>\n",
       "      <td>4,851</td>\n",
       "      <td>NaN</td>\n",
       "      <td>NaN</td>\n",
       "      <td>0</td>\n",
       "      <td>0</td>\n",
       "      <td>03/12/2021 03:20:13 PM</td>\n",
       "      <td>Agree</td>\n",
       "      <td>NaN</td>\n",
       "    </tr>\n",
       "    <tr>\n",
       "      <th>1</th>\n",
       "      <td>02/12/2021</td>\n",
       "      <td>UT</td>\n",
       "      <td>359,641</td>\n",
       "      <td>359,641</td>\n",
       "      <td>0</td>\n",
       "      <td>1,060</td>\n",
       "      <td>0</td>\n",
       "      <td>1,785</td>\n",
       "      <td>1,729</td>\n",
       "      <td>56</td>\n",
       "      <td>11</td>\n",
       "      <td>2</td>\n",
       "      <td>02/13/2021 02:50:08 PM</td>\n",
       "      <td>Agree</td>\n",
       "      <td>Agree</td>\n",
       "    </tr>\n",
       "    <tr>\n",
       "      <th>2</th>\n",
       "      <td>02/04/2020</td>\n",
       "      <td>AR</td>\n",
       "      <td>0</td>\n",
       "      <td>NaN</td>\n",
       "      <td>NaN</td>\n",
       "      <td>0</td>\n",
       "      <td>NaN</td>\n",
       "      <td>0</td>\n",
       "      <td>NaN</td>\n",
       "      <td>NaN</td>\n",
       "      <td>0</td>\n",
       "      <td>NaN</td>\n",
       "      <td>03/26/2020 04:22:39 PM</td>\n",
       "      <td>Not agree</td>\n",
       "      <td>Not agree</td>\n",
       "    </tr>\n",
       "    <tr>\n",
       "      <th>3</th>\n",
       "      <td>08/22/2020</td>\n",
       "      <td>AR</td>\n",
       "      <td>56,199</td>\n",
       "      <td>NaN</td>\n",
       "      <td>NaN</td>\n",
       "      <td>547</td>\n",
       "      <td>0</td>\n",
       "      <td>674</td>\n",
       "      <td>NaN</td>\n",
       "      <td>NaN</td>\n",
       "      <td>11</td>\n",
       "      <td>0</td>\n",
       "      <td>08/23/2020 02:15:28 PM</td>\n",
       "      <td>Not agree</td>\n",
       "      <td>Not agree</td>\n",
       "    </tr>\n",
       "    <tr>\n",
       "      <th>4</th>\n",
       "      <td>12/06/2021</td>\n",
       "      <td>MP</td>\n",
       "      <td>1,104</td>\n",
       "      <td>1,104</td>\n",
       "      <td>0</td>\n",
       "      <td>0</td>\n",
       "      <td>0</td>\n",
       "      <td>5</td>\n",
       "      <td>5</td>\n",
       "      <td>0</td>\n",
       "      <td>2</td>\n",
       "      <td>0</td>\n",
       "      <td>12/08/2021 12:00:00 AM</td>\n",
       "      <td>Agree</td>\n",
       "      <td>Agree</td>\n",
       "    </tr>\n",
       "  </tbody>\n",
       "</table>\n",
       "</div>"
      ],
      "text/plain": [
       "  submission_date state tot_cases conf_cases prob_cases new_case pnew_case  \\\n",
       "0      03/11/2021    KS   297,229    241,035     56,194        0         0   \n",
       "1      02/12/2021    UT   359,641    359,641          0    1,060         0   \n",
       "2      02/04/2020    AR         0        NaN        NaN        0       NaN   \n",
       "3      08/22/2020    AR    56,199        NaN        NaN      547         0   \n",
       "4      12/06/2021    MP     1,104      1,104          0        0         0   \n",
       "\n",
       "  tot_death conf_death prob_death new_death pnew_death  \\\n",
       "0     4,851        NaN        NaN         0          0   \n",
       "1     1,785      1,729         56        11          2   \n",
       "2         0        NaN        NaN         0        NaN   \n",
       "3       674        NaN        NaN        11          0   \n",
       "4         5          5          0         2          0   \n",
       "\n",
       "               created_at consent_cases consent_deaths  \n",
       "0  03/12/2021 03:20:13 PM         Agree            NaN  \n",
       "1  02/13/2021 02:50:08 PM         Agree          Agree  \n",
       "2  03/26/2020 04:22:39 PM     Not agree      Not agree  \n",
       "3  08/23/2020 02:15:28 PM     Not agree      Not agree  \n",
       "4  12/08/2021 12:00:00 AM         Agree          Agree  "
      ]
     },
     "execution_count": 4,
     "metadata": {},
     "output_type": "execute_result"
    }
   ],
   "source": [
    "COVID19.head()"
   ]
  },
  {
   "cell_type": "code",
   "execution_count": 5,
   "id": "dbdfcb85",
   "metadata": {},
   "outputs": [
    {
     "data": {
      "text/plain": [
       "Index(['submission_date', 'state', 'tot_cases', 'conf_cases', 'prob_cases',\n",
       "       'new_case', 'pnew_case', 'tot_death', 'conf_death', 'prob_death',\n",
       "       'new_death', 'pnew_death', 'created_at', 'consent_cases',\n",
       "       'consent_deaths'],\n",
       "      dtype='object')"
      ]
     },
     "execution_count": 5,
     "metadata": {},
     "output_type": "execute_result"
    }
   ],
   "source": [
    "COVID19.columns"
   ]
  },
  {
   "cell_type": "code",
   "execution_count": 6,
   "id": "1d7407df",
   "metadata": {},
   "outputs": [
    {
     "name": "stdout",
     "output_type": "stream",
     "text": [
      "<class 'pandas.core.frame.DataFrame'>\n",
      "RangeIndex: 46920 entries, 0 to 46919\n",
      "Data columns (total 15 columns):\n",
      " #   Column           Non-Null Count  Dtype \n",
      "---  ------           --------------  ----- \n",
      " 0   submission_date  46920 non-null  object\n",
      " 1   state            46920 non-null  object\n",
      " 2   tot_cases        46920 non-null  object\n",
      " 3   conf_cases       25673 non-null  object\n",
      " 4   prob_cases       25601 non-null  object\n",
      " 5   new_case         46920 non-null  object\n",
      " 6   pnew_case        43136 non-null  object\n",
      " 7   tot_death        46920 non-null  object\n",
      " 8   conf_death       25303 non-null  object\n",
      " 9   prob_death       25303 non-null  object\n",
      " 10  new_death        46920 non-null  object\n",
      " 11  pnew_death       43121 non-null  object\n",
      " 12  created_at       46920 non-null  object\n",
      " 13  consent_cases    39095 non-null  object\n",
      " 14  consent_deaths   39882 non-null  object\n",
      "dtypes: object(15)\n",
      "memory usage: 5.4+ MB\n"
     ]
    }
   ],
   "source": [
    "COVID19.info()"
   ]
  },
  {
   "cell_type": "code",
   "execution_count": 7,
   "id": "adf0ac59",
   "metadata": {},
   "outputs": [
    {
     "data": {
      "text/plain": [
       "submission_date    object\n",
       "state              object\n",
       "tot_cases          object\n",
       "conf_cases         object\n",
       "prob_cases         object\n",
       "new_case           object\n",
       "pnew_case          object\n",
       "tot_death          object\n",
       "conf_death         object\n",
       "prob_death         object\n",
       "new_death          object\n",
       "pnew_death         object\n",
       "created_at         object\n",
       "consent_cases      object\n",
       "consent_deaths     object\n",
       "dtype: object"
      ]
     },
     "execution_count": 7,
     "metadata": {},
     "output_type": "execute_result"
    }
   ],
   "source": [
    "COVID19.dtypes"
   ]
  },
  {
   "cell_type": "code",
   "execution_count": 8,
   "id": "10b44809",
   "metadata": {},
   "outputs": [
    {
     "data": {
      "text/plain": [
       "(46920, 15)"
      ]
     },
     "execution_count": 8,
     "metadata": {},
     "output_type": "execute_result"
    }
   ],
   "source": [
    "COVID19.shape"
   ]
  },
  {
   "cell_type": "code",
   "execution_count": 9,
   "id": "ae48c834",
   "metadata": {},
   "outputs": [
    {
     "data": {
      "text/plain": [
       "'      submission_date state  tot_cases conf_cases prob_cases new_case  \\\\\\n0          03/11/2021    KS    297,229    241,035     56,194        0   \\n1          02/12/2021    UT    359,641    359,641          0    1,060   \\n2          02/04/2020    AR          0        NaN        NaN        0   \\n3          08/22/2020    AR     56,199        NaN        NaN      547   \\n4          12/06/2021    MP      1,104      1,104          0        0   \\n...               ...   ...        ...        ...        ...      ...   \\n46915      06/07/2020    SD      5,438        NaN        NaN       71   \\n46916      12/28/2021    NY  1,833,465        NaN        NaN   13,006   \\n46917      09/25/2021   RMI          4          4          0        0   \\n46918      03/10/2021    SD    113,962        NaN        NaN      209   \\n46919      05/27/2021    OH  1,100,312    921,199    179,113      732   \\n\\n      pnew_case tot_death conf_death prob_death new_death pnew_death  \\\\\\n0             0     4,851        NaN        NaN         0          0   \\n1             0     1,785      1,729         56        11          2   \\n2           NaN         0        NaN        NaN         0        NaN   \\n3             0       674        NaN        NaN        11          0   \\n4             0         5          5          0         2          0   \\n...         ...       ...        ...        ...       ...        ...   \\n46915         0        65         64          1         0          1   \\n46916         0    23,446        NaN        NaN        42          0   \\n46917         0         0          0          0         0          0   \\n46918        37     1,904      1,546        358         3          0   \\n46919       196    19,753     19,753          0         0          0   \\n\\n                   created_at consent_cases consent_deaths  \\n0      03/12/2021 03:20:13 PM         Agree            NaN  \\n1      02/13/2021 02:50:08 PM         Agree          Agree  \\n2      03/26/2020 04:22:39 PM     Not agree      Not agree  \\n3      08/23/2020 02:15:28 PM     Not agree      Not agree  \\n4      12/08/2021 12:00:00 AM         Agree          Agree  \\n...                       ...           ...            ...  \\n46915  06/08/2020 02:55:08 PM           NaN          Agree  \\n46916  12/29/2021 02:30:55 PM     Not agree      Not agree  \\n46917  09/27/2021 01:21:43 PM         Agree          Agree  \\n46918  03/11/2021 03:36:21 PM           NaN          Agree  \\n46919  05/28/2021 01:29:21 PM         Agree          Agree  \\n\\n[46920 rows x 15 columns]'"
      ]
     },
     "execution_count": 9,
     "metadata": {},
     "output_type": "execute_result"
    }
   ],
   "source": [
    "str(COVID19)"
   ]
  },
  {
   "cell_type": "code",
   "execution_count": 10,
   "id": "a020846f",
   "metadata": {},
   "outputs": [
    {
     "data": {
      "text/html": [
       "<div>\n",
       "<style scoped>\n",
       "    .dataframe tbody tr th:only-of-type {\n",
       "        vertical-align: middle;\n",
       "    }\n",
       "\n",
       "    .dataframe tbody tr th {\n",
       "        vertical-align: top;\n",
       "    }\n",
       "\n",
       "    .dataframe thead th {\n",
       "        text-align: right;\n",
       "    }\n",
       "</style>\n",
       "<table border=\"1\" class=\"dataframe\">\n",
       "  <thead>\n",
       "    <tr style=\"text-align: right;\">\n",
       "      <th></th>\n",
       "      <th>submission_date</th>\n",
       "      <th>state</th>\n",
       "      <th>tot_cases</th>\n",
       "      <th>conf_cases</th>\n",
       "      <th>prob_cases</th>\n",
       "      <th>new_case</th>\n",
       "      <th>pnew_case</th>\n",
       "      <th>tot_death</th>\n",
       "      <th>conf_death</th>\n",
       "      <th>prob_death</th>\n",
       "      <th>new_death</th>\n",
       "      <th>pnew_death</th>\n",
       "      <th>created_at</th>\n",
       "      <th>consent_cases</th>\n",
       "      <th>consent_deaths</th>\n",
       "    </tr>\n",
       "  </thead>\n",
       "  <tbody>\n",
       "    <tr>\n",
       "      <th>count</th>\n",
       "      <td>46920</td>\n",
       "      <td>46920</td>\n",
       "      <td>46920</td>\n",
       "      <td>25673</td>\n",
       "      <td>25601</td>\n",
       "      <td>46920</td>\n",
       "      <td>43136</td>\n",
       "      <td>46920</td>\n",
       "      <td>25303</td>\n",
       "      <td>25303</td>\n",
       "      <td>46920</td>\n",
       "      <td>43121</td>\n",
       "      <td>46920</td>\n",
       "      <td>39095</td>\n",
       "      <td>39882</td>\n",
       "    </tr>\n",
       "    <tr>\n",
       "      <th>unique</th>\n",
       "      <td>782</td>\n",
       "      <td>60</td>\n",
       "      <td>35611</td>\n",
       "      <td>21556</td>\n",
       "      <td>15319</td>\n",
       "      <td>7461</td>\n",
       "      <td>2907</td>\n",
       "      <td>15924</td>\n",
       "      <td>11945</td>\n",
       "      <td>3642</td>\n",
       "      <td>503</td>\n",
       "      <td>313</td>\n",
       "      <td>1776</td>\n",
       "      <td>2</td>\n",
       "      <td>2</td>\n",
       "    </tr>\n",
       "    <tr>\n",
       "      <th>top</th>\n",
       "      <td>03/11/2021</td>\n",
       "      <td>KS</td>\n",
       "      <td>0</td>\n",
       "      <td>0</td>\n",
       "      <td>0</td>\n",
       "      <td>0</td>\n",
       "      <td>0</td>\n",
       "      <td>0</td>\n",
       "      <td>0</td>\n",
       "      <td>0</td>\n",
       "      <td>0</td>\n",
       "      <td>0</td>\n",
       "      <td>03/26/2020 04:22:39 PM</td>\n",
       "      <td>Agree</td>\n",
       "      <td>Agree</td>\n",
       "    </tr>\n",
       "    <tr>\n",
       "      <th>freq</th>\n",
       "      <td>60</td>\n",
       "      <td>782</td>\n",
       "      <td>3944</td>\n",
       "      <td>657</td>\n",
       "      <td>5954</td>\n",
       "      <td>8711</td>\n",
       "      <td>19711</td>\n",
       "      <td>6281</td>\n",
       "      <td>1818</td>\n",
       "      <td>6594</td>\n",
       "      <td>16269</td>\n",
       "      <td>30367</td>\n",
       "      <td>2970</td>\n",
       "      <td>27900</td>\n",
       "      <td>27452</td>\n",
       "    </tr>\n",
       "  </tbody>\n",
       "</table>\n",
       "</div>"
      ],
      "text/plain": [
       "       submission_date  state tot_cases conf_cases prob_cases new_case  \\\n",
       "count            46920  46920     46920      25673      25601    46920   \n",
       "unique             782     60     35611      21556      15319     7461   \n",
       "top         03/11/2021     KS         0          0          0        0   \n",
       "freq                60    782      3944        657       5954     8711   \n",
       "\n",
       "       pnew_case tot_death conf_death prob_death new_death pnew_death  \\\n",
       "count      43136     46920      25303      25303     46920      43121   \n",
       "unique      2907     15924      11945       3642       503        313   \n",
       "top            0         0          0          0         0          0   \n",
       "freq       19711      6281       1818       6594     16269      30367   \n",
       "\n",
       "                    created_at consent_cases consent_deaths  \n",
       "count                    46920         39095          39882  \n",
       "unique                    1776             2              2  \n",
       "top     03/26/2020 04:22:39 PM         Agree          Agree  \n",
       "freq                      2970         27900          27452  "
      ]
     },
     "execution_count": 10,
     "metadata": {},
     "output_type": "execute_result"
    }
   ],
   "source": [
    "COVID19.describe()"
   ]
  },
  {
   "cell_type": "code",
   "execution_count": 11,
   "id": "231fe27a",
   "metadata": {},
   "outputs": [
    {
     "data": {
      "text/plain": [
       "True"
      ]
     },
     "execution_count": 11,
     "metadata": {},
     "output_type": "execute_result"
    }
   ],
   "source": [
    "# Search for missing data\n",
    "\n",
    "COVID19.isnull().values.any()"
   ]
  },
  {
   "cell_type": "code",
   "execution_count": 12,
   "id": "58026c50",
   "metadata": {},
   "outputs": [
    {
     "name": "stdout",
     "output_type": "stream",
     "text": [
      "submission_date        0\n",
      "state                  0\n",
      "tot_cases              0\n",
      "conf_cases         21247\n",
      "prob_cases         21319\n",
      "new_case               0\n",
      "pnew_case           3784\n",
      "tot_death              0\n",
      "conf_death         21617\n",
      "prob_death         21617\n",
      "new_death              0\n",
      "pnew_death          3799\n",
      "created_at             0\n",
      "consent_cases       7825\n",
      "consent_deaths      7038\n",
      "dtype: int64\n"
     ]
    }
   ],
   "source": [
    "print(COVID19.isnull().sum())"
   ]
  },
  {
   "cell_type": "code",
   "execution_count": 13,
   "id": "c3a8c86d",
   "metadata": {},
   "outputs": [
    {
     "data": {
      "text/html": [
       "<div>\n",
       "<style scoped>\n",
       "    .dataframe tbody tr th:only-of-type {\n",
       "        vertical-align: middle;\n",
       "    }\n",
       "\n",
       "    .dataframe tbody tr th {\n",
       "        vertical-align: top;\n",
       "    }\n",
       "\n",
       "    .dataframe thead th {\n",
       "        text-align: right;\n",
       "    }\n",
       "</style>\n",
       "<table border=\"1\" class=\"dataframe\">\n",
       "  <thead>\n",
       "    <tr style=\"text-align: right;\">\n",
       "      <th></th>\n",
       "      <th>submission_date</th>\n",
       "      <th>state</th>\n",
       "      <th>tot_cases</th>\n",
       "      <th>conf_cases</th>\n",
       "      <th>prob_cases</th>\n",
       "      <th>new_case</th>\n",
       "      <th>pnew_case</th>\n",
       "      <th>tot_death</th>\n",
       "      <th>conf_death</th>\n",
       "      <th>prob_death</th>\n",
       "      <th>new_death</th>\n",
       "      <th>pnew_death</th>\n",
       "      <th>consent_cases</th>\n",
       "      <th>consent_deaths</th>\n",
       "    </tr>\n",
       "  </thead>\n",
       "  <tbody>\n",
       "    <tr>\n",
       "      <th>0</th>\n",
       "      <td>03/11/2021</td>\n",
       "      <td>KS</td>\n",
       "      <td>297,229</td>\n",
       "      <td>241,035</td>\n",
       "      <td>56,194</td>\n",
       "      <td>0</td>\n",
       "      <td>0</td>\n",
       "      <td>4,851</td>\n",
       "      <td>NaN</td>\n",
       "      <td>NaN</td>\n",
       "      <td>0</td>\n",
       "      <td>0</td>\n",
       "      <td>Agree</td>\n",
       "      <td>NaN</td>\n",
       "    </tr>\n",
       "    <tr>\n",
       "      <th>1</th>\n",
       "      <td>02/12/2021</td>\n",
       "      <td>UT</td>\n",
       "      <td>359,641</td>\n",
       "      <td>359,641</td>\n",
       "      <td>0</td>\n",
       "      <td>1,060</td>\n",
       "      <td>0</td>\n",
       "      <td>1,785</td>\n",
       "      <td>1,729</td>\n",
       "      <td>56</td>\n",
       "      <td>11</td>\n",
       "      <td>2</td>\n",
       "      <td>Agree</td>\n",
       "      <td>Agree</td>\n",
       "    </tr>\n",
       "    <tr>\n",
       "      <th>2</th>\n",
       "      <td>02/04/2020</td>\n",
       "      <td>AR</td>\n",
       "      <td>0</td>\n",
       "      <td>NaN</td>\n",
       "      <td>NaN</td>\n",
       "      <td>0</td>\n",
       "      <td>NaN</td>\n",
       "      <td>0</td>\n",
       "      <td>NaN</td>\n",
       "      <td>NaN</td>\n",
       "      <td>0</td>\n",
       "      <td>NaN</td>\n",
       "      <td>Not agree</td>\n",
       "      <td>Not agree</td>\n",
       "    </tr>\n",
       "    <tr>\n",
       "      <th>3</th>\n",
       "      <td>08/22/2020</td>\n",
       "      <td>AR</td>\n",
       "      <td>56,199</td>\n",
       "      <td>NaN</td>\n",
       "      <td>NaN</td>\n",
       "      <td>547</td>\n",
       "      <td>0</td>\n",
       "      <td>674</td>\n",
       "      <td>NaN</td>\n",
       "      <td>NaN</td>\n",
       "      <td>11</td>\n",
       "      <td>0</td>\n",
       "      <td>Not agree</td>\n",
       "      <td>Not agree</td>\n",
       "    </tr>\n",
       "    <tr>\n",
       "      <th>4</th>\n",
       "      <td>12/06/2021</td>\n",
       "      <td>MP</td>\n",
       "      <td>1,104</td>\n",
       "      <td>1,104</td>\n",
       "      <td>0</td>\n",
       "      <td>0</td>\n",
       "      <td>0</td>\n",
       "      <td>5</td>\n",
       "      <td>5</td>\n",
       "      <td>0</td>\n",
       "      <td>2</td>\n",
       "      <td>0</td>\n",
       "      <td>Agree</td>\n",
       "      <td>Agree</td>\n",
       "    </tr>\n",
       "  </tbody>\n",
       "</table>\n",
       "</div>"
      ],
      "text/plain": [
       "  submission_date state tot_cases conf_cases prob_cases new_case pnew_case  \\\n",
       "0      03/11/2021    KS   297,229    241,035     56,194        0         0   \n",
       "1      02/12/2021    UT   359,641    359,641          0    1,060         0   \n",
       "2      02/04/2020    AR         0        NaN        NaN        0       NaN   \n",
       "3      08/22/2020    AR    56,199        NaN        NaN      547         0   \n",
       "4      12/06/2021    MP     1,104      1,104          0        0         0   \n",
       "\n",
       "  tot_death conf_death prob_death new_death pnew_death consent_cases  \\\n",
       "0     4,851        NaN        NaN         0          0         Agree   \n",
       "1     1,785      1,729         56        11          2         Agree   \n",
       "2         0        NaN        NaN         0        NaN     Not agree   \n",
       "3       674        NaN        NaN        11          0     Not agree   \n",
       "4         5          5          0         2          0         Agree   \n",
       "\n",
       "  consent_deaths  \n",
       "0            NaN  \n",
       "1          Agree  \n",
       "2      Not agree  \n",
       "3      Not agree  \n",
       "4          Agree  "
      ]
     },
     "execution_count": 13,
     "metadata": {},
     "output_type": "execute_result"
    }
   ],
   "source": [
    "# Drop Row\n",
    "\n",
    "to_drop = ['created_at']\n",
    "COVID19.drop(to_drop, inplace=True, axis=1)\n",
    "\n",
    "COVID19.head()"
   ]
  },
  {
   "cell_type": "code",
   "execution_count": 14,
   "id": "a943a928",
   "metadata": {},
   "outputs": [
    {
     "data": {
      "text/html": [
       "<div>\n",
       "<style scoped>\n",
       "    .dataframe tbody tr th:only-of-type {\n",
       "        vertical-align: middle;\n",
       "    }\n",
       "\n",
       "    .dataframe tbody tr th {\n",
       "        vertical-align: top;\n",
       "    }\n",
       "\n",
       "    .dataframe thead th {\n",
       "        text-align: right;\n",
       "    }\n",
       "</style>\n",
       "<table border=\"1\" class=\"dataframe\">\n",
       "  <thead>\n",
       "    <tr style=\"text-align: right;\">\n",
       "      <th></th>\n",
       "      <th>submission_date</th>\n",
       "      <th>state</th>\n",
       "      <th>tot_cases</th>\n",
       "      <th>conf_cases</th>\n",
       "      <th>prob_cases</th>\n",
       "      <th>new_case</th>\n",
       "      <th>pnew_case</th>\n",
       "      <th>tot_death</th>\n",
       "      <th>conf_death</th>\n",
       "      <th>prob_death</th>\n",
       "      <th>new_death</th>\n",
       "      <th>pnew_death</th>\n",
       "      <th>consent_cases</th>\n",
       "      <th>consent_deaths</th>\n",
       "    </tr>\n",
       "  </thead>\n",
       "  <tbody>\n",
       "    <tr>\n",
       "      <th>1</th>\n",
       "      <td>02/12/2021</td>\n",
       "      <td>UT</td>\n",
       "      <td>359,641</td>\n",
       "      <td>359,641</td>\n",
       "      <td>0</td>\n",
       "      <td>1,060</td>\n",
       "      <td>0</td>\n",
       "      <td>1,785</td>\n",
       "      <td>1,729</td>\n",
       "      <td>56</td>\n",
       "      <td>11</td>\n",
       "      <td>2</td>\n",
       "      <td>Agree</td>\n",
       "      <td>Agree</td>\n",
       "    </tr>\n",
       "    <tr>\n",
       "      <th>4</th>\n",
       "      <td>12/06/2021</td>\n",
       "      <td>MP</td>\n",
       "      <td>1,104</td>\n",
       "      <td>1,104</td>\n",
       "      <td>0</td>\n",
       "      <td>0</td>\n",
       "      <td>0</td>\n",
       "      <td>5</td>\n",
       "      <td>5</td>\n",
       "      <td>0</td>\n",
       "      <td>2</td>\n",
       "      <td>0</td>\n",
       "      <td>Agree</td>\n",
       "      <td>Agree</td>\n",
       "    </tr>\n",
       "    <tr>\n",
       "      <th>5</th>\n",
       "      <td>07/17/2020</td>\n",
       "      <td>MP</td>\n",
       "      <td>37</td>\n",
       "      <td>37</td>\n",
       "      <td>0</td>\n",
       "      <td>1</td>\n",
       "      <td>0</td>\n",
       "      <td>2</td>\n",
       "      <td>2</td>\n",
       "      <td>0</td>\n",
       "      <td>0</td>\n",
       "      <td>0</td>\n",
       "      <td>Agree</td>\n",
       "      <td>Agree</td>\n",
       "    </tr>\n",
       "    <tr>\n",
       "      <th>9</th>\n",
       "      <td>12/27/2021</td>\n",
       "      <td>CO</td>\n",
       "      <td>896,403</td>\n",
       "      <td>820,472</td>\n",
       "      <td>75,931</td>\n",
       "      <td>10,153</td>\n",
       "      <td>543</td>\n",
       "      <td>10,077</td>\n",
       "      <td>8,922</td>\n",
       "      <td>1,155</td>\n",
       "      <td>3</td>\n",
       "      <td>0</td>\n",
       "      <td>Agree</td>\n",
       "      <td>Agree</td>\n",
       "    </tr>\n",
       "    <tr>\n",
       "      <th>10</th>\n",
       "      <td>08/01/2021</td>\n",
       "      <td>GA</td>\n",
       "      <td>1,187,107</td>\n",
       "      <td>937,515</td>\n",
       "      <td>249,592</td>\n",
       "      <td>3,829</td>\n",
       "      <td>1,144</td>\n",
       "      <td>21,690</td>\n",
       "      <td>18,725</td>\n",
       "      <td>2,965</td>\n",
       "      <td>7</td>\n",
       "      <td>0</td>\n",
       "      <td>Agree</td>\n",
       "      <td>Agree</td>\n",
       "    </tr>\n",
       "  </tbody>\n",
       "</table>\n",
       "</div>"
      ],
      "text/plain": [
       "   submission_date state  tot_cases conf_cases prob_cases new_case pnew_case  \\\n",
       "1       02/12/2021    UT    359,641    359,641          0    1,060         0   \n",
       "4       12/06/2021    MP      1,104      1,104          0        0         0   \n",
       "5       07/17/2020    MP         37         37          0        1         0   \n",
       "9       12/27/2021    CO    896,403    820,472     75,931   10,153       543   \n",
       "10      08/01/2021    GA  1,187,107    937,515    249,592    3,829     1,144   \n",
       "\n",
       "   tot_death conf_death prob_death new_death pnew_death consent_cases  \\\n",
       "1      1,785      1,729         56        11          2         Agree   \n",
       "4          5          5          0         2          0         Agree   \n",
       "5          2          2          0         0          0         Agree   \n",
       "9     10,077      8,922      1,155         3          0         Agree   \n",
       "10    21,690     18,725      2,965         7          0         Agree   \n",
       "\n",
       "   consent_deaths  \n",
       "1           Agree  \n",
       "4           Agree  \n",
       "5           Agree  \n",
       "9           Agree  \n",
       "10          Agree  "
      ]
     },
     "execution_count": 14,
     "metadata": {},
     "output_type": "execute_result"
    }
   ],
   "source": [
    "# Delete NA values\n",
    "\n",
    "COVID19.dropna(subset=[\"tot_cases\",\"conf_cases\",\"prob_cases\",\"new_case\",\"pnew_case\",\n",
    "                      \"tot_death\",\"conf_death\",\"prob_death\",\"new_death\",\"pnew_death\",\n",
    "                      \"consent_cases\",\"consent_deaths\"], inplace=True)\n",
    "\n",
    "COVID19.head()"
   ]
  },
  {
   "cell_type": "code",
   "execution_count": 15,
   "id": "2d3980cc",
   "metadata": {},
   "outputs": [
    {
     "name": "stdout",
     "output_type": "stream",
     "text": [
      "0\n"
     ]
    },
    {
     "data": {
      "text/html": [
       "<div>\n",
       "<style scoped>\n",
       "    .dataframe tbody tr th:only-of-type {\n",
       "        vertical-align: middle;\n",
       "    }\n",
       "\n",
       "    .dataframe tbody tr th {\n",
       "        vertical-align: top;\n",
       "    }\n",
       "\n",
       "    .dataframe thead th {\n",
       "        text-align: right;\n",
       "    }\n",
       "</style>\n",
       "<table border=\"1\" class=\"dataframe\">\n",
       "  <thead>\n",
       "    <tr style=\"text-align: right;\">\n",
       "      <th></th>\n",
       "      <th>submission_date</th>\n",
       "      <th>state</th>\n",
       "      <th>tot_cases</th>\n",
       "      <th>conf_cases</th>\n",
       "      <th>prob_cases</th>\n",
       "      <th>new_case</th>\n",
       "      <th>pnew_case</th>\n",
       "      <th>tot_death</th>\n",
       "      <th>conf_death</th>\n",
       "      <th>prob_death</th>\n",
       "      <th>new_death</th>\n",
       "      <th>pnew_death</th>\n",
       "      <th>consent_cases</th>\n",
       "      <th>consent_deaths</th>\n",
       "    </tr>\n",
       "  </thead>\n",
       "  <tbody>\n",
       "  </tbody>\n",
       "</table>\n",
       "</div>"
      ],
      "text/plain": [
       "Empty DataFrame\n",
       "Columns: [submission_date, state, tot_cases, conf_cases, prob_cases, new_case, pnew_case, tot_death, conf_death, prob_death, new_death, pnew_death, consent_cases, consent_deaths]\n",
       "Index: []"
      ]
     },
     "execution_count": 15,
     "metadata": {},
     "output_type": "execute_result"
    }
   ],
   "source": [
    "# Check for duplicate\n",
    "\n",
    "duplicate = COVID19.duplicated()\n",
    "print(duplicate.sum())\n",
    "COVID19[duplicate]"
   ]
  },
  {
   "cell_type": "code",
   "execution_count": 16,
   "id": "8d2427d7",
   "metadata": {},
   "outputs": [
    {
     "name": "stdout",
     "output_type": "stream",
     "text": [
      "submission_date    datetime64[ns]\n",
      "state                      object\n",
      "tot_cases                  object\n",
      "conf_cases                 object\n",
      "prob_cases                 object\n",
      "new_case                   object\n",
      "pnew_case                  object\n",
      "tot_death                  object\n",
      "conf_death                 object\n",
      "prob_death                 object\n",
      "new_death                  object\n",
      "pnew_death                 object\n",
      "consent_cases              object\n",
      "consent_deaths             object\n",
      "dtype: object\n"
     ]
    }
   ],
   "source": [
    "# Change \"submission_date\" data type\n",
    "\n",
    "COVID19[\"submission_date\"] = pd.to_datetime(COVID19[\"submission_date\"])\n",
    "print(COVID19.dtypes)"
   ]
  },
  {
   "cell_type": "code",
   "execution_count": 17,
   "id": "867c9688",
   "metadata": {},
   "outputs": [
    {
     "data": {
      "text/html": [
       "<div>\n",
       "<style scoped>\n",
       "    .dataframe tbody tr th:only-of-type {\n",
       "        vertical-align: middle;\n",
       "    }\n",
       "\n",
       "    .dataframe tbody tr th {\n",
       "        vertical-align: top;\n",
       "    }\n",
       "\n",
       "    .dataframe thead th {\n",
       "        text-align: right;\n",
       "    }\n",
       "</style>\n",
       "<table border=\"1\" class=\"dataframe\">\n",
       "  <thead>\n",
       "    <tr style=\"text-align: right;\">\n",
       "      <th></th>\n",
       "      <th>submission_date</th>\n",
       "      <th>state</th>\n",
       "      <th>tot_cases</th>\n",
       "      <th>conf_cases</th>\n",
       "      <th>prob_cases</th>\n",
       "      <th>new_case</th>\n",
       "      <th>pnew_case</th>\n",
       "      <th>tot_death</th>\n",
       "      <th>conf_death</th>\n",
       "      <th>prob_death</th>\n",
       "      <th>new_death</th>\n",
       "      <th>pnew_death</th>\n",
       "      <th>consent_cases</th>\n",
       "      <th>consent_deaths</th>\n",
       "    </tr>\n",
       "  </thead>\n",
       "  <tbody>\n",
       "    <tr>\n",
       "      <th>12450</th>\n",
       "      <td>2020-01-22</td>\n",
       "      <td>AL</td>\n",
       "      <td>0</td>\n",
       "      <td>0</td>\n",
       "      <td>0</td>\n",
       "      <td>0</td>\n",
       "      <td>0</td>\n",
       "      <td>0</td>\n",
       "      <td>0</td>\n",
       "      <td>0</td>\n",
       "      <td>0</td>\n",
       "      <td>0</td>\n",
       "      <td>Agree</td>\n",
       "      <td>Agree</td>\n",
       "    </tr>\n",
       "    <tr>\n",
       "      <th>9834</th>\n",
       "      <td>2020-01-22</td>\n",
       "      <td>ME</td>\n",
       "      <td>0</td>\n",
       "      <td>0</td>\n",
       "      <td>0</td>\n",
       "      <td>0</td>\n",
       "      <td>0</td>\n",
       "      <td>0</td>\n",
       "      <td>0</td>\n",
       "      <td>0</td>\n",
       "      <td>0</td>\n",
       "      <td>0</td>\n",
       "      <td>Agree</td>\n",
       "      <td>Agree</td>\n",
       "    </tr>\n",
       "    <tr>\n",
       "      <th>42493</th>\n",
       "      <td>2020-01-22</td>\n",
       "      <td>MP</td>\n",
       "      <td>0</td>\n",
       "      <td>0</td>\n",
       "      <td>0</td>\n",
       "      <td>0</td>\n",
       "      <td>0</td>\n",
       "      <td>0</td>\n",
       "      <td>0</td>\n",
       "      <td>0</td>\n",
       "      <td>0</td>\n",
       "      <td>0</td>\n",
       "      <td>Agree</td>\n",
       "      <td>Agree</td>\n",
       "    </tr>\n",
       "    <tr>\n",
       "      <th>38642</th>\n",
       "      <td>2020-01-23</td>\n",
       "      <td>MP</td>\n",
       "      <td>0</td>\n",
       "      <td>0</td>\n",
       "      <td>0</td>\n",
       "      <td>0</td>\n",
       "      <td>0</td>\n",
       "      <td>0</td>\n",
       "      <td>0</td>\n",
       "      <td>0</td>\n",
       "      <td>0</td>\n",
       "      <td>0</td>\n",
       "      <td>Agree</td>\n",
       "      <td>Agree</td>\n",
       "    </tr>\n",
       "    <tr>\n",
       "      <th>15794</th>\n",
       "      <td>2020-01-23</td>\n",
       "      <td>AL</td>\n",
       "      <td>0</td>\n",
       "      <td>0</td>\n",
       "      <td>0</td>\n",
       "      <td>0</td>\n",
       "      <td>0</td>\n",
       "      <td>0</td>\n",
       "      <td>0</td>\n",
       "      <td>0</td>\n",
       "      <td>0</td>\n",
       "      <td>0</td>\n",
       "      <td>Agree</td>\n",
       "      <td>Agree</td>\n",
       "    </tr>\n",
       "  </tbody>\n",
       "</table>\n",
       "</div>"
      ],
      "text/plain": [
       "      submission_date state tot_cases conf_cases prob_cases new_case  \\\n",
       "12450      2020-01-22    AL         0          0          0        0   \n",
       "9834       2020-01-22    ME         0          0          0        0   \n",
       "42493      2020-01-22    MP         0          0          0        0   \n",
       "38642      2020-01-23    MP         0          0          0        0   \n",
       "15794      2020-01-23    AL         0          0          0        0   \n",
       "\n",
       "      pnew_case tot_death conf_death prob_death new_death pnew_death  \\\n",
       "12450         0         0          0          0         0          0   \n",
       "9834          0         0          0          0         0          0   \n",
       "42493         0         0          0          0         0          0   \n",
       "38642         0         0          0          0         0          0   \n",
       "15794         0         0          0          0         0          0   \n",
       "\n",
       "      consent_cases consent_deaths  \n",
       "12450         Agree          Agree  \n",
       "9834          Agree          Agree  \n",
       "42493         Agree          Agree  \n",
       "38642         Agree          Agree  \n",
       "15794         Agree          Agree  "
      ]
     },
     "execution_count": 17,
     "metadata": {},
     "output_type": "execute_result"
    }
   ],
   "source": [
    "# Sort the submission_date in order\n",
    "\n",
    "COVID19.sort_values(\"submission_date\",inplace=True)\n",
    "COVID19.head()"
   ]
  },
  {
   "cell_type": "code",
   "execution_count": 18,
   "id": "a7dec1c4",
   "metadata": {},
   "outputs": [
    {
     "data": {
      "text/html": [
       "<div>\n",
       "<style scoped>\n",
       "    .dataframe tbody tr th:only-of-type {\n",
       "        vertical-align: middle;\n",
       "    }\n",
       "\n",
       "    .dataframe tbody tr th {\n",
       "        vertical-align: top;\n",
       "    }\n",
       "\n",
       "    .dataframe thead th {\n",
       "        text-align: right;\n",
       "    }\n",
       "</style>\n",
       "<table border=\"1\" class=\"dataframe\">\n",
       "  <thead>\n",
       "    <tr style=\"text-align: right;\">\n",
       "      <th></th>\n",
       "      <th>state</th>\n",
       "      <th>tot_cases</th>\n",
       "      <th>conf_cases</th>\n",
       "      <th>prob_cases</th>\n",
       "      <th>new_case</th>\n",
       "      <th>pnew_case</th>\n",
       "      <th>tot_death</th>\n",
       "      <th>conf_death</th>\n",
       "      <th>prob_death</th>\n",
       "      <th>new_death</th>\n",
       "      <th>pnew_death</th>\n",
       "      <th>consent_cases</th>\n",
       "      <th>consent_deaths</th>\n",
       "    </tr>\n",
       "    <tr>\n",
       "      <th>submission_date</th>\n",
       "      <th></th>\n",
       "      <th></th>\n",
       "      <th></th>\n",
       "      <th></th>\n",
       "      <th></th>\n",
       "      <th></th>\n",
       "      <th></th>\n",
       "      <th></th>\n",
       "      <th></th>\n",
       "      <th></th>\n",
       "      <th></th>\n",
       "      <th></th>\n",
       "      <th></th>\n",
       "    </tr>\n",
       "  </thead>\n",
       "  <tbody>\n",
       "    <tr>\n",
       "      <th>2020-01-22</th>\n",
       "      <td>AL</td>\n",
       "      <td>0</td>\n",
       "      <td>0</td>\n",
       "      <td>0</td>\n",
       "      <td>0</td>\n",
       "      <td>0</td>\n",
       "      <td>0</td>\n",
       "      <td>0</td>\n",
       "      <td>0</td>\n",
       "      <td>0</td>\n",
       "      <td>0</td>\n",
       "      <td>Agree</td>\n",
       "      <td>Agree</td>\n",
       "    </tr>\n",
       "    <tr>\n",
       "      <th>2020-01-22</th>\n",
       "      <td>ME</td>\n",
       "      <td>0</td>\n",
       "      <td>0</td>\n",
       "      <td>0</td>\n",
       "      <td>0</td>\n",
       "      <td>0</td>\n",
       "      <td>0</td>\n",
       "      <td>0</td>\n",
       "      <td>0</td>\n",
       "      <td>0</td>\n",
       "      <td>0</td>\n",
       "      <td>Agree</td>\n",
       "      <td>Agree</td>\n",
       "    </tr>\n",
       "    <tr>\n",
       "      <th>2020-01-22</th>\n",
       "      <td>MP</td>\n",
       "      <td>0</td>\n",
       "      <td>0</td>\n",
       "      <td>0</td>\n",
       "      <td>0</td>\n",
       "      <td>0</td>\n",
       "      <td>0</td>\n",
       "      <td>0</td>\n",
       "      <td>0</td>\n",
       "      <td>0</td>\n",
       "      <td>0</td>\n",
       "      <td>Agree</td>\n",
       "      <td>Agree</td>\n",
       "    </tr>\n",
       "    <tr>\n",
       "      <th>2020-01-23</th>\n",
       "      <td>MP</td>\n",
       "      <td>0</td>\n",
       "      <td>0</td>\n",
       "      <td>0</td>\n",
       "      <td>0</td>\n",
       "      <td>0</td>\n",
       "      <td>0</td>\n",
       "      <td>0</td>\n",
       "      <td>0</td>\n",
       "      <td>0</td>\n",
       "      <td>0</td>\n",
       "      <td>Agree</td>\n",
       "      <td>Agree</td>\n",
       "    </tr>\n",
       "    <tr>\n",
       "      <th>2020-01-23</th>\n",
       "      <td>AL</td>\n",
       "      <td>0</td>\n",
       "      <td>0</td>\n",
       "      <td>0</td>\n",
       "      <td>0</td>\n",
       "      <td>0</td>\n",
       "      <td>0</td>\n",
       "      <td>0</td>\n",
       "      <td>0</td>\n",
       "      <td>0</td>\n",
       "      <td>0</td>\n",
       "      <td>Agree</td>\n",
       "      <td>Agree</td>\n",
       "    </tr>\n",
       "  </tbody>\n",
       "</table>\n",
       "</div>"
      ],
      "text/plain": [
       "                state tot_cases conf_cases prob_cases new_case pnew_case  \\\n",
       "submission_date                                                            \n",
       "2020-01-22         AL         0          0          0        0         0   \n",
       "2020-01-22         ME         0          0          0        0         0   \n",
       "2020-01-22         MP         0          0          0        0         0   \n",
       "2020-01-23         MP         0          0          0        0         0   \n",
       "2020-01-23         AL         0          0          0        0         0   \n",
       "\n",
       "                tot_death conf_death prob_death new_death pnew_death  \\\n",
       "submission_date                                                        \n",
       "2020-01-22              0          0          0         0          0   \n",
       "2020-01-22              0          0          0         0          0   \n",
       "2020-01-22              0          0          0         0          0   \n",
       "2020-01-23              0          0          0         0          0   \n",
       "2020-01-23              0          0          0         0          0   \n",
       "\n",
       "                consent_cases consent_deaths  \n",
       "submission_date                               \n",
       "2020-01-22              Agree          Agree  \n",
       "2020-01-22              Agree          Agree  \n",
       "2020-01-22              Agree          Agree  \n",
       "2020-01-23              Agree          Agree  \n",
       "2020-01-23              Agree          Agree  "
      ]
     },
     "execution_count": 18,
     "metadata": {},
     "output_type": "execute_result"
    }
   ],
   "source": [
    "# Change \"submission_date\" to index\n",
    "\n",
    "COVID19.submission_date = pd.to_datetime(COVID19.submission_date)\n",
    "COVID19.set_index('submission_date', inplace=True)\n",
    "\n",
    "COVID19.head()"
   ]
  },
  {
   "cell_type": "code",
   "execution_count": 19,
   "id": "00db6347",
   "metadata": {},
   "outputs": [
    {
     "data": {
      "text/html": [
       "<div>\n",
       "<style scoped>\n",
       "    .dataframe tbody tr th:only-of-type {\n",
       "        vertical-align: middle;\n",
       "    }\n",
       "\n",
       "    .dataframe tbody tr th {\n",
       "        vertical-align: top;\n",
       "    }\n",
       "\n",
       "    .dataframe thead th {\n",
       "        text-align: right;\n",
       "    }\n",
       "</style>\n",
       "<table border=\"1\" class=\"dataframe\">\n",
       "  <thead>\n",
       "    <tr style=\"text-align: right;\">\n",
       "      <th></th>\n",
       "      <th>state</th>\n",
       "      <th>tot_cases</th>\n",
       "      <th>conf_cases</th>\n",
       "      <th>prob_cases</th>\n",
       "      <th>new_case</th>\n",
       "      <th>pnew_case</th>\n",
       "      <th>tot_death</th>\n",
       "      <th>conf_death</th>\n",
       "      <th>prob_death</th>\n",
       "      <th>new_death</th>\n",
       "      <th>pnew_death</th>\n",
       "      <th>consent_cases</th>\n",
       "      <th>consent_deaths</th>\n",
       "    </tr>\n",
       "    <tr>\n",
       "      <th>submission_date</th>\n",
       "      <th></th>\n",
       "      <th></th>\n",
       "      <th></th>\n",
       "      <th></th>\n",
       "      <th></th>\n",
       "      <th></th>\n",
       "      <th></th>\n",
       "      <th></th>\n",
       "      <th></th>\n",
       "      <th></th>\n",
       "      <th></th>\n",
       "      <th></th>\n",
       "      <th></th>\n",
       "    </tr>\n",
       "  </thead>\n",
       "  <tbody>\n",
       "    <tr>\n",
       "      <th>2020-02-03</th>\n",
       "      <td>CA</td>\n",
       "      <td>6</td>\n",
       "      <td>6</td>\n",
       "      <td>0</td>\n",
       "      <td>3</td>\n",
       "      <td>0</td>\n",
       "      <td>0</td>\n",
       "      <td>0</td>\n",
       "      <td>0</td>\n",
       "      <td>0</td>\n",
       "      <td>0</td>\n",
       "      <td>Agree</td>\n",
       "      <td>Agree</td>\n",
       "    </tr>\n",
       "    <tr>\n",
       "      <th>2020-02-04</th>\n",
       "      <td>CA</td>\n",
       "      <td>6</td>\n",
       "      <td>6</td>\n",
       "      <td>0</td>\n",
       "      <td>0</td>\n",
       "      <td>0</td>\n",
       "      <td>0</td>\n",
       "      <td>0</td>\n",
       "      <td>0</td>\n",
       "      <td>0</td>\n",
       "      <td>0</td>\n",
       "      <td>Agree</td>\n",
       "      <td>Agree</td>\n",
       "    </tr>\n",
       "    <tr>\n",
       "      <th>2020-02-05</th>\n",
       "      <td>CA</td>\n",
       "      <td>6</td>\n",
       "      <td>6</td>\n",
       "      <td>0</td>\n",
       "      <td>0</td>\n",
       "      <td>0</td>\n",
       "      <td>0</td>\n",
       "      <td>0</td>\n",
       "      <td>0</td>\n",
       "      <td>0</td>\n",
       "      <td>0</td>\n",
       "      <td>Agree</td>\n",
       "      <td>Agree</td>\n",
       "    </tr>\n",
       "    <tr>\n",
       "      <th>2020-02-06</th>\n",
       "      <td>CA</td>\n",
       "      <td>6</td>\n",
       "      <td>6</td>\n",
       "      <td>0</td>\n",
       "      <td>0</td>\n",
       "      <td>0</td>\n",
       "      <td>0</td>\n",
       "      <td>0</td>\n",
       "      <td>0</td>\n",
       "      <td>0</td>\n",
       "      <td>0</td>\n",
       "      <td>Agree</td>\n",
       "      <td>Agree</td>\n",
       "    </tr>\n",
       "    <tr>\n",
       "      <th>2020-02-07</th>\n",
       "      <td>CA</td>\n",
       "      <td>6</td>\n",
       "      <td>6</td>\n",
       "      <td>0</td>\n",
       "      <td>0</td>\n",
       "      <td>0</td>\n",
       "      <td>0</td>\n",
       "      <td>0</td>\n",
       "      <td>0</td>\n",
       "      <td>0</td>\n",
       "      <td>0</td>\n",
       "      <td>Agree</td>\n",
       "      <td>Agree</td>\n",
       "    </tr>\n",
       "    <tr>\n",
       "      <th>...</th>\n",
       "      <td>...</td>\n",
       "      <td>...</td>\n",
       "      <td>...</td>\n",
       "      <td>...</td>\n",
       "      <td>...</td>\n",
       "      <td>...</td>\n",
       "      <td>...</td>\n",
       "      <td>...</td>\n",
       "      <td>...</td>\n",
       "      <td>...</td>\n",
       "      <td>...</td>\n",
       "      <td>...</td>\n",
       "      <td>...</td>\n",
       "    </tr>\n",
       "    <tr>\n",
       "      <th>2022-03-13</th>\n",
       "      <td>MI</td>\n",
       "      <td>2,371,788</td>\n",
       "      <td>2,065,912</td>\n",
       "      <td>305,876</td>\n",
       "      <td>0</td>\n",
       "      <td>0</td>\n",
       "      <td>35,188</td>\n",
       "      <td>32,419</td>\n",
       "      <td>2,769</td>\n",
       "      <td>0</td>\n",
       "      <td>0</td>\n",
       "      <td>Agree</td>\n",
       "      <td>Agree</td>\n",
       "    </tr>\n",
       "    <tr>\n",
       "      <th>2022-03-13</th>\n",
       "      <td>PR</td>\n",
       "      <td>476,063</td>\n",
       "      <td>267,827</td>\n",
       "      <td>208,236</td>\n",
       "      <td>295</td>\n",
       "      <td>145</td>\n",
       "      <td>4,150</td>\n",
       "      <td>3,455</td>\n",
       "      <td>695</td>\n",
       "      <td>0</td>\n",
       "      <td>0</td>\n",
       "      <td>Agree</td>\n",
       "      <td>Agree</td>\n",
       "    </tr>\n",
       "    <tr>\n",
       "      <th>2022-03-13</th>\n",
       "      <td>NYC</td>\n",
       "      <td>2,287,411</td>\n",
       "      <td>1,946,037</td>\n",
       "      <td>341,374</td>\n",
       "      <td>1,900</td>\n",
       "      <td>258</td>\n",
       "      <td>39,942</td>\n",
       "      <td>34,441</td>\n",
       "      <td>5,501</td>\n",
       "      <td>15</td>\n",
       "      <td>1</td>\n",
       "      <td>Agree</td>\n",
       "      <td>Agree</td>\n",
       "    </tr>\n",
       "    <tr>\n",
       "      <th>2022-03-13</th>\n",
       "      <td>OK</td>\n",
       "      <td>1,027,663</td>\n",
       "      <td>752,427</td>\n",
       "      <td>275,236</td>\n",
       "      <td>0</td>\n",
       "      <td>0</td>\n",
       "      <td>13,513</td>\n",
       "      <td>9,604</td>\n",
       "      <td>3,909</td>\n",
       "      <td>0</td>\n",
       "      <td>0</td>\n",
       "      <td>Agree</td>\n",
       "      <td>Agree</td>\n",
       "    </tr>\n",
       "    <tr>\n",
       "      <th>2022-03-13</th>\n",
       "      <td>IL</td>\n",
       "      <td>3,045,718</td>\n",
       "      <td>3,045,718</td>\n",
       "      <td>0</td>\n",
       "      <td>0</td>\n",
       "      <td>0</td>\n",
       "      <td>37,310</td>\n",
       "      <td>33,075</td>\n",
       "      <td>4,235</td>\n",
       "      <td>0</td>\n",
       "      <td>0</td>\n",
       "      <td>Agree</td>\n",
       "      <td>Agree</td>\n",
       "    </tr>\n",
       "  </tbody>\n",
       "</table>\n",
       "<p>20476 rows × 13 columns</p>\n",
       "</div>"
      ],
      "text/plain": [
       "                state  tot_cases conf_cases prob_cases new_case pnew_case  \\\n",
       "submission_date                                                             \n",
       "2020-02-03         CA          6          6          0        3         0   \n",
       "2020-02-04         CA          6          6          0        0         0   \n",
       "2020-02-05         CA          6          6          0        0         0   \n",
       "2020-02-06         CA          6          6          0        0         0   \n",
       "2020-02-07         CA          6          6          0        0         0   \n",
       "...               ...        ...        ...        ...      ...       ...   \n",
       "2022-03-13         MI  2,371,788  2,065,912    305,876        0         0   \n",
       "2022-03-13         PR    476,063    267,827    208,236      295       145   \n",
       "2022-03-13        NYC  2,287,411  1,946,037    341,374    1,900       258   \n",
       "2022-03-13         OK  1,027,663    752,427    275,236        0         0   \n",
       "2022-03-13         IL  3,045,718  3,045,718          0        0         0   \n",
       "\n",
       "                tot_death conf_death prob_death new_death pnew_death  \\\n",
       "submission_date                                                        \n",
       "2020-02-03              0          0          0         0          0   \n",
       "2020-02-04              0          0          0         0          0   \n",
       "2020-02-05              0          0          0         0          0   \n",
       "2020-02-06              0          0          0         0          0   \n",
       "2020-02-07              0          0          0         0          0   \n",
       "...                   ...        ...        ...       ...        ...   \n",
       "2022-03-13         35,188     32,419      2,769         0          0   \n",
       "2022-03-13          4,150      3,455        695         0          0   \n",
       "2022-03-13         39,942     34,441      5,501        15          1   \n",
       "2022-03-13         13,513      9,604      3,909         0          0   \n",
       "2022-03-13         37,310     33,075      4,235         0          0   \n",
       "\n",
       "                consent_cases consent_deaths  \n",
       "submission_date                               \n",
       "2020-02-03              Agree          Agree  \n",
       "2020-02-04              Agree          Agree  \n",
       "2020-02-05              Agree          Agree  \n",
       "2020-02-06              Agree          Agree  \n",
       "2020-02-07              Agree          Agree  \n",
       "...                       ...            ...  \n",
       "2022-03-13              Agree          Agree  \n",
       "2022-03-13              Agree          Agree  \n",
       "2022-03-13              Agree          Agree  \n",
       "2022-03-13              Agree          Agree  \n",
       "2022-03-13              Agree          Agree  \n",
       "\n",
       "[20476 rows x 13 columns]"
      ]
     },
     "execution_count": 19,
     "metadata": {},
     "output_type": "execute_result"
    }
   ],
   "source": [
    "# Delete 0 values\n",
    "\n",
    "COVID19[~(COVID19.loc[:,[\"tot_cases\",\"conf_cases\",\"prob_cases\",\"new_case\",\"pnew_case\",\n",
    "                      \"tot_death\",\"conf_death\",\"prob_death\",\"new_death\",\"pnew_death\"]] == '0').all(axis=1)]"
   ]
  },
  {
   "cell_type": "code",
   "execution_count": 20,
   "id": "f4cc2f36",
   "metadata": {},
   "outputs": [
    {
     "name": "stdout",
     "output_type": "stream",
     "text": [
      "                state tot_cases conf_cases prob_cases new_case pnew_case  \\\n",
      "submission_date                                                            \n",
      "2020-01-22         AL         0          0          0        0         0   \n",
      "2020-01-22         ME         0          0          0        0         0   \n",
      "2020-01-22         MP         0          0          0        0         0   \n",
      "2020-01-23         MP         0          0          0        0         0   \n",
      "2020-01-23         AL         0          0          0        0         0   \n",
      "...               ...       ...        ...        ...      ...       ...   \n",
      "2022-03-13         MI   2371788    2065912     305876        0         0   \n",
      "2022-03-13         PR    476063     267827     208236      295       145   \n",
      "2022-03-13        NYC   2287411    1946037     341374     1900       258   \n",
      "2022-03-13         OK   1027663     752427     275236        0         0   \n",
      "2022-03-13         IL   3045718    3045718          0        0         0   \n",
      "\n",
      "                tot_death conf_death prob_death new_death pnew_death  \\\n",
      "submission_date                                                        \n",
      "2020-01-22              0          0          0         0          0   \n",
      "2020-01-22              0          0          0         0          0   \n",
      "2020-01-22              0          0          0         0          0   \n",
      "2020-01-23              0          0          0         0          0   \n",
      "2020-01-23              0          0          0         0          0   \n",
      "...                   ...        ...        ...       ...        ...   \n",
      "2022-03-13          35188      32419       2769         0          0   \n",
      "2022-03-13           4150       3455        695         0          0   \n",
      "2022-03-13          39942      34441       5501        15          1   \n",
      "2022-03-13          13513       9604       3909         0          0   \n",
      "2022-03-13          37310      33075       4235         0          0   \n",
      "\n",
      "                consent_cases consent_deaths  \n",
      "submission_date                               \n",
      "2020-01-22              Agree          Agree  \n",
      "2020-01-22              Agree          Agree  \n",
      "2020-01-22              Agree          Agree  \n",
      "2020-01-23              Agree          Agree  \n",
      "2020-01-23              Agree          Agree  \n",
      "...                       ...            ...  \n",
      "2022-03-13              Agree          Agree  \n",
      "2022-03-13              Agree          Agree  \n",
      "2022-03-13              Agree          Agree  \n",
      "2022-03-13              Agree          Agree  \n",
      "2022-03-13              Agree          Agree  \n",
      "\n",
      "[21102 rows x 13 columns]\n"
     ]
    }
   ],
   "source": [
    "# Delete \",\"\n",
    "\n",
    "COVID19 = COVID19.replace(',','', regex=True)\n",
    "print(COVID19)"
   ]
  },
  {
   "cell_type": "code",
   "execution_count": 21,
   "id": "100e3a99",
   "metadata": {},
   "outputs": [
    {
     "name": "stdout",
     "output_type": "stream",
     "text": [
      "state             object\n",
      "tot_cases          int64\n",
      "conf_cases         int64\n",
      "prob_cases         int64\n",
      "new_case           int64\n",
      "pnew_case          int64\n",
      "tot_death          int64\n",
      "conf_death         int64\n",
      "prob_death         int64\n",
      "new_death          int64\n",
      "pnew_death         int64\n",
      "consent_cases     object\n",
      "consent_deaths    object\n",
      "dtype: object\n"
     ]
    }
   ],
   "source": [
    "# Change data types - int\n",
    "\n",
    "COVID19.tot_cases = COVID19.tot_cases.astype(int)\n",
    "COVID19.conf_cases = COVID19.conf_cases.astype(int)\n",
    "COVID19.prob_cases = COVID19.prob_cases.astype(int)\n",
    "COVID19.new_case = COVID19.new_case.astype(int)\n",
    "COVID19.pnew_case = COVID19.pnew_case.astype(int)\n",
    "COVID19.tot_death = COVID19.tot_death.astype(int)\n",
    "COVID19.conf_death= COVID19.conf_death.astype(int)\n",
    "COVID19.prob_death = COVID19.prob_death.astype(int)\n",
    "COVID19.new_death = COVID19.new_death.astype(int)\n",
    "COVID19.pnew_death = COVID19.pnew_death.astype(int)\n",
    "\n",
    "print(COVID19.dtypes)"
   ]
  },
  {
   "cell_type": "code",
   "execution_count": 22,
   "id": "862995af",
   "metadata": {},
   "outputs": [],
   "source": [
    "# 2 - Descriptive Statistical Analysis: mean, median, and range of data during the period provided in the US.  \n",
    "# Use tables, and graphs, plots, and bar charts to show your results for the top 20 states based on the highest cases reported.  \n",
    "# Do not print the actual data.  Points will be deducted for printing raw data. Brief interpretation of your results.  "
   ]
  },
  {
   "cell_type": "code",
   "execution_count": 23,
   "id": "838eb938",
   "metadata": {},
   "outputs": [
    {
     "data": {
      "text/html": [
       "<div>\n",
       "<style scoped>\n",
       "    .dataframe tbody tr th:only-of-type {\n",
       "        vertical-align: middle;\n",
       "    }\n",
       "\n",
       "    .dataframe tbody tr th {\n",
       "        vertical-align: top;\n",
       "    }\n",
       "\n",
       "    .dataframe thead th {\n",
       "        text-align: right;\n",
       "    }\n",
       "</style>\n",
       "<table border=\"1\" class=\"dataframe\">\n",
       "  <thead>\n",
       "    <tr style=\"text-align: right;\">\n",
       "      <th></th>\n",
       "      <th>tot_cases</th>\n",
       "      <th>conf_cases</th>\n",
       "      <th>prob_cases</th>\n",
       "      <th>new_case</th>\n",
       "      <th>pnew_case</th>\n",
       "      <th>tot_death</th>\n",
       "      <th>conf_death</th>\n",
       "      <th>prob_death</th>\n",
       "      <th>new_death</th>\n",
       "      <th>pnew_death</th>\n",
       "    </tr>\n",
       "  </thead>\n",
       "  <tbody>\n",
       "    <tr>\n",
       "      <th>count</th>\n",
       "      <td>2.110200e+04</td>\n",
       "      <td>2.110200e+04</td>\n",
       "      <td>21102.000000</td>\n",
       "      <td>21102.000000</td>\n",
       "      <td>21102.000000</td>\n",
       "      <td>21102.000000</td>\n",
       "      <td>21102.000000</td>\n",
       "      <td>21102.000000</td>\n",
       "      <td>21102.000000</td>\n",
       "      <td>21102.000000</td>\n",
       "    </tr>\n",
       "    <tr>\n",
       "      <th>mean</th>\n",
       "      <td>5.018884e+05</td>\n",
       "      <td>4.388318e+05</td>\n",
       "      <td>63056.636670</td>\n",
       "      <td>1924.967017</td>\n",
       "      <td>296.314994</td>\n",
       "      <td>8671.483177</td>\n",
       "      <td>7767.345512</td>\n",
       "      <td>904.137665</td>\n",
       "      <td>23.472325</td>\n",
       "      <td>2.709269</td>\n",
       "    </tr>\n",
       "    <tr>\n",
       "      <th>std</th>\n",
       "      <td>6.734335e+05</td>\n",
       "      <td>6.160789e+05</td>\n",
       "      <td>98400.485696</td>\n",
       "      <td>4406.507135</td>\n",
       "      <td>793.267182</td>\n",
       "      <td>10995.840457</td>\n",
       "      <td>10222.903805</td>\n",
       "      <td>1319.413288</td>\n",
       "      <td>51.714424</td>\n",
       "      <td>27.588242</td>\n",
       "    </tr>\n",
       "    <tr>\n",
       "      <th>min</th>\n",
       "      <td>0.000000e+00</td>\n",
       "      <td>0.000000e+00</td>\n",
       "      <td>0.000000</td>\n",
       "      <td>-4803.000000</td>\n",
       "      <td>-6259.000000</td>\n",
       "      <td>0.000000</td>\n",
       "      <td>0.000000</td>\n",
       "      <td>0.000000</td>\n",
       "      <td>-352.000000</td>\n",
       "      <td>-2594.000000</td>\n",
       "    </tr>\n",
       "    <tr>\n",
       "      <th>25%</th>\n",
       "      <td>4.238975e+04</td>\n",
       "      <td>3.885400e+04</td>\n",
       "      <td>15.000000</td>\n",
       "      <td>123.000000</td>\n",
       "      <td>0.000000</td>\n",
       "      <td>772.000000</td>\n",
       "      <td>741.250000</td>\n",
       "      <td>0.000000</td>\n",
       "      <td>0.000000</td>\n",
       "      <td>0.000000</td>\n",
       "    </tr>\n",
       "    <tr>\n",
       "      <th>50%</th>\n",
       "      <td>2.343125e+05</td>\n",
       "      <td>2.055460e+05</td>\n",
       "      <td>12179.000000</td>\n",
       "      <td>636.500000</td>\n",
       "      <td>42.000000</td>\n",
       "      <td>4099.000000</td>\n",
       "      <td>3590.000000</td>\n",
       "      <td>232.000000</td>\n",
       "      <td>7.000000</td>\n",
       "      <td>0.000000</td>\n",
       "    </tr>\n",
       "    <tr>\n",
       "      <th>75%</th>\n",
       "      <td>7.471500e+05</td>\n",
       "      <td>6.462618e+05</td>\n",
       "      <td>96237.750000</td>\n",
       "      <td>1947.000000</td>\n",
       "      <td>260.000000</td>\n",
       "      <td>12585.250000</td>\n",
       "      <td>10812.000000</td>\n",
       "      <td>1416.000000</td>\n",
       "      <td>25.000000</td>\n",
       "      <td>2.000000</td>\n",
       "    </tr>\n",
       "    <tr>\n",
       "      <th>max</th>\n",
       "      <td>4.885289e+06</td>\n",
       "      <td>4.640489e+06</td>\n",
       "      <td>599278.000000</td>\n",
       "      <td>125572.000000</td>\n",
       "      <td>16929.000000</td>\n",
       "      <td>71408.000000</td>\n",
       "      <td>71408.000000</td>\n",
       "      <td>6452.000000</td>\n",
       "      <td>1178.000000</td>\n",
       "      <td>1021.000000</td>\n",
       "    </tr>\n",
       "  </tbody>\n",
       "</table>\n",
       "</div>"
      ],
      "text/plain": [
       "          tot_cases    conf_cases     prob_cases       new_case     pnew_case  \\\n",
       "count  2.110200e+04  2.110200e+04   21102.000000   21102.000000  21102.000000   \n",
       "mean   5.018884e+05  4.388318e+05   63056.636670    1924.967017    296.314994   \n",
       "std    6.734335e+05  6.160789e+05   98400.485696    4406.507135    793.267182   \n",
       "min    0.000000e+00  0.000000e+00       0.000000   -4803.000000  -6259.000000   \n",
       "25%    4.238975e+04  3.885400e+04      15.000000     123.000000      0.000000   \n",
       "50%    2.343125e+05  2.055460e+05   12179.000000     636.500000     42.000000   \n",
       "75%    7.471500e+05  6.462618e+05   96237.750000    1947.000000    260.000000   \n",
       "max    4.885289e+06  4.640489e+06  599278.000000  125572.000000  16929.000000   \n",
       "\n",
       "          tot_death    conf_death    prob_death     new_death    pnew_death  \n",
       "count  21102.000000  21102.000000  21102.000000  21102.000000  21102.000000  \n",
       "mean    8671.483177   7767.345512    904.137665     23.472325      2.709269  \n",
       "std    10995.840457  10222.903805   1319.413288     51.714424     27.588242  \n",
       "min        0.000000      0.000000      0.000000   -352.000000  -2594.000000  \n",
       "25%      772.000000    741.250000      0.000000      0.000000      0.000000  \n",
       "50%     4099.000000   3590.000000    232.000000      7.000000      0.000000  \n",
       "75%    12585.250000  10812.000000   1416.000000     25.000000      2.000000  \n",
       "max    71408.000000  71408.000000   6452.000000   1178.000000   1021.000000  "
      ]
     },
     "execution_count": 23,
     "metadata": {},
     "output_type": "execute_result"
    }
   ],
   "source": [
    "COVID19.describe()"
   ]
  },
  {
   "cell_type": "code",
   "execution_count": 24,
   "id": "b76bcf62",
   "metadata": {},
   "outputs": [
    {
     "name": "stdout",
     "output_type": "stream",
     "text": [
      "501888.3652260449\n"
     ]
    }
   ],
   "source": [
    "# Mean \n",
    "\n",
    "mean = stats.mean(COVID19.tot_cases)\n",
    "print(mean)"
   ]
  },
  {
   "cell_type": "code",
   "execution_count": 25,
   "id": "178bec99",
   "metadata": {},
   "outputs": [
    {
     "name": "stdout",
     "output_type": "stream",
     "text": [
      "438831.803952232\n"
     ]
    }
   ],
   "source": [
    "mean = stats.mean(COVID19.conf_cases)\n",
    "print(mean)"
   ]
  },
  {
   "cell_type": "code",
   "execution_count": 26,
   "id": "a929d004",
   "metadata": {},
   "outputs": [
    {
     "name": "stdout",
     "output_type": "stream",
     "text": [
      "63056.63666951\n"
     ]
    }
   ],
   "source": [
    "mean = stats.mean(COVID19.prob_cases)\n",
    "print(mean)"
   ]
  },
  {
   "cell_type": "code",
   "execution_count": 27,
   "id": "3128d773",
   "metadata": {},
   "outputs": [
    {
     "name": "stdout",
     "output_type": "stream",
     "text": [
      "1924.9670173443276\n"
     ]
    }
   ],
   "source": [
    "mean = stats.mean(COVID19.new_case)\n",
    "print(mean)"
   ]
  },
  {
   "cell_type": "code",
   "execution_count": 28,
   "id": "4ae7bbd6",
   "metadata": {},
   "outputs": [
    {
     "name": "stdout",
     "output_type": "stream",
     "text": [
      "296.3149938394465\n"
     ]
    }
   ],
   "source": [
    "mean = stats.mean(COVID19.pnew_case)\n",
    "print(mean)"
   ]
  },
  {
   "cell_type": "code",
   "execution_count": 29,
   "id": "3afd7476",
   "metadata": {},
   "outputs": [
    {
     "name": "stdout",
     "output_type": "stream",
     "text": [
      "8671.483176950052\n"
     ]
    }
   ],
   "source": [
    "mean = stats.mean(COVID19.tot_death)\n",
    "print(mean)"
   ]
  },
  {
   "cell_type": "code",
   "execution_count": 30,
   "id": "9348b58a",
   "metadata": {},
   "outputs": [
    {
     "name": "stdout",
     "output_type": "stream",
     "text": [
      "7767.345512273718\n"
     ]
    }
   ],
   "source": [
    "mean = stats.mean(COVID19.conf_death)\n",
    "print(mean)"
   ]
  },
  {
   "cell_type": "code",
   "execution_count": 31,
   "id": "d9ad9a24",
   "metadata": {},
   "outputs": [
    {
     "name": "stdout",
     "output_type": "stream",
     "text": [
      "904.137664676334\n"
     ]
    }
   ],
   "source": [
    "mean = stats.mean(COVID19.prob_death)\n",
    "print(mean)"
   ]
  },
  {
   "cell_type": "code",
   "execution_count": 32,
   "id": "1e7818c2",
   "metadata": {},
   "outputs": [
    {
     "name": "stdout",
     "output_type": "stream",
     "text": [
      "23.47232489811392\n"
     ]
    }
   ],
   "source": [
    "mean = stats.mean(COVID19.new_death)\n",
    "print(mean)"
   ]
  },
  {
   "cell_type": "code",
   "execution_count": 33,
   "id": "0fbd2b9d",
   "metadata": {},
   "outputs": [
    {
     "name": "stdout",
     "output_type": "stream",
     "text": [
      "2.7092692635769122\n"
     ]
    }
   ],
   "source": [
    "mean = stats.mean(COVID19.pnew_death)\n",
    "print(mean)"
   ]
  },
  {
   "cell_type": "code",
   "execution_count": 34,
   "id": "5ee67a0b",
   "metadata": {},
   "outputs": [
    {
     "name": "stdout",
     "output_type": "stream",
     "text": [
      "234312.5\n"
     ]
    }
   ],
   "source": [
    "# Median\n",
    "\n",
    "median = stats.median(COVID19.tot_cases)\n",
    "print(median)"
   ]
  },
  {
   "cell_type": "code",
   "execution_count": 35,
   "id": "5b170fa3",
   "metadata": {},
   "outputs": [
    {
     "name": "stdout",
     "output_type": "stream",
     "text": [
      "2.7092692635769122\n"
     ]
    }
   ],
   "source": [
    "median = stats.median(COVID19.conf_cases)\n",
    "print(mean)"
   ]
  },
  {
   "cell_type": "code",
   "execution_count": 36,
   "id": "67e6f854",
   "metadata": {},
   "outputs": [
    {
     "name": "stdout",
     "output_type": "stream",
     "text": [
      "2.7092692635769122\n"
     ]
    }
   ],
   "source": [
    "median = stats.median(COVID19.prob_cases)\n",
    "print(mean)"
   ]
  },
  {
   "cell_type": "code",
   "execution_count": 37,
   "id": "48572a00",
   "metadata": {},
   "outputs": [
    {
     "name": "stdout",
     "output_type": "stream",
     "text": [
      "2.7092692635769122\n"
     ]
    }
   ],
   "source": [
    "median = stats.median(COVID19.new_case)\n",
    "print(mean)"
   ]
  },
  {
   "cell_type": "code",
   "execution_count": 38,
   "id": "c2d02528",
   "metadata": {},
   "outputs": [
    {
     "name": "stdout",
     "output_type": "stream",
     "text": [
      "2.7092692635769122\n"
     ]
    }
   ],
   "source": [
    "median = stats.median(COVID19.pnew_case)\n",
    "print(mean)"
   ]
  },
  {
   "cell_type": "code",
   "execution_count": 39,
   "id": "b1b78f12",
   "metadata": {},
   "outputs": [
    {
     "name": "stdout",
     "output_type": "stream",
     "text": [
      "2.7092692635769122\n"
     ]
    }
   ],
   "source": [
    "median = stats.median(COVID19.tot_death)\n",
    "print(mean)"
   ]
  },
  {
   "cell_type": "code",
   "execution_count": 40,
   "id": "6ec9fde2",
   "metadata": {},
   "outputs": [
    {
     "name": "stdout",
     "output_type": "stream",
     "text": [
      "3590.0\n"
     ]
    }
   ],
   "source": [
    "median = stats.median(COVID19.conf_death)\n",
    "print(median)"
   ]
  },
  {
   "cell_type": "code",
   "execution_count": 41,
   "id": "06e3b34c",
   "metadata": {},
   "outputs": [
    {
     "name": "stdout",
     "output_type": "stream",
     "text": [
      "232.0\n"
     ]
    }
   ],
   "source": [
    "median = stats.median(COVID19.prob_death)\n",
    "print(median)"
   ]
  },
  {
   "cell_type": "code",
   "execution_count": 42,
   "id": "032035c8",
   "metadata": {},
   "outputs": [
    {
     "name": "stdout",
     "output_type": "stream",
     "text": [
      "7.0\n"
     ]
    }
   ],
   "source": [
    "median = stats.median(COVID19.new_death)\n",
    "print(median)"
   ]
  },
  {
   "cell_type": "code",
   "execution_count": 43,
   "id": "5833f855",
   "metadata": {},
   "outputs": [
    {
     "name": "stdout",
     "output_type": "stream",
     "text": [
      "0.0\n"
     ]
    }
   ],
   "source": [
    "median = stats.median(COVID19.pnew_death)\n",
    "print(median)"
   ]
  },
  {
   "cell_type": "code",
   "execution_count": 44,
   "id": "bf0f3273",
   "metadata": {},
   "outputs": [
    {
     "name": "stdout",
     "output_type": "stream",
     "text": [
      "The range is 0, 4885289\n"
     ]
    }
   ],
   "source": [
    "# Range\n",
    "\n",
    "minimum = min(COVID19.tot_cases)\n",
    "maximum = max(COVID19.tot_cases)\n",
    "\n",
    "print(f'The range is {minimum}, {maximum}')"
   ]
  },
  {
   "cell_type": "code",
   "execution_count": 45,
   "id": "f16c61aa",
   "metadata": {},
   "outputs": [
    {
     "name": "stdout",
     "output_type": "stream",
     "text": [
      "The range is 0, 4640489\n"
     ]
    }
   ],
   "source": [
    "minimum = min(COVID19.conf_cases)\n",
    "maximum = max(COVID19.conf_cases)\n",
    "\n",
    "print(f'The range is {minimum}, {maximum}')"
   ]
  },
  {
   "cell_type": "code",
   "execution_count": 46,
   "id": "378d8c64",
   "metadata": {},
   "outputs": [
    {
     "name": "stdout",
     "output_type": "stream",
     "text": [
      "The range is 0, 599278\n"
     ]
    }
   ],
   "source": [
    "minimum = min(COVID19.prob_cases)\n",
    "maximum = max(COVID19.prob_cases)\n",
    "\n",
    "print(f'The range is {minimum}, {maximum}')"
   ]
  },
  {
   "cell_type": "code",
   "execution_count": 47,
   "id": "b26504bc",
   "metadata": {},
   "outputs": [
    {
     "name": "stdout",
     "output_type": "stream",
     "text": [
      "The range is -4803, 125572\n"
     ]
    }
   ],
   "source": [
    "minimum = min(COVID19.new_case)\n",
    "maximum = max(COVID19.new_case)\n",
    "\n",
    "print(f'The range is {minimum}, {maximum}')"
   ]
  },
  {
   "cell_type": "code",
   "execution_count": 48,
   "id": "56a92cc8",
   "metadata": {},
   "outputs": [
    {
     "name": "stdout",
     "output_type": "stream",
     "text": [
      "The range is -6259, 16929\n"
     ]
    }
   ],
   "source": [
    "minimum = min(COVID19.pnew_case)\n",
    "maximum = max(COVID19.pnew_case)\n",
    "\n",
    "print(f'The range is {minimum}, {maximum}')"
   ]
  },
  {
   "cell_type": "code",
   "execution_count": 49,
   "id": "7bc4ac3f",
   "metadata": {},
   "outputs": [
    {
     "name": "stdout",
     "output_type": "stream",
     "text": [
      "The range is 0, 71408\n"
     ]
    }
   ],
   "source": [
    "minimum = min(COVID19.tot_death)\n",
    "maximum = max(COVID19.tot_death)\n",
    "\n",
    "print(f'The range is {minimum}, {maximum}')"
   ]
  },
  {
   "cell_type": "code",
   "execution_count": 50,
   "id": "3a211ce2",
   "metadata": {},
   "outputs": [
    {
     "name": "stdout",
     "output_type": "stream",
     "text": [
      "The range is 0, 71408\n"
     ]
    }
   ],
   "source": [
    "minimum = min(COVID19.conf_death)\n",
    "maximum = max(COVID19.conf_death)\n",
    "\n",
    "print(f'The range is {minimum}, {maximum}')"
   ]
  },
  {
   "cell_type": "code",
   "execution_count": 51,
   "id": "7e7ee6cb",
   "metadata": {},
   "outputs": [
    {
     "name": "stdout",
     "output_type": "stream",
     "text": [
      "The range is 0, 6452\n"
     ]
    }
   ],
   "source": [
    "minimum = min(COVID19.prob_death)\n",
    "maximum = max(COVID19.prob_death)\n",
    "\n",
    "print(f'The range is {minimum}, {maximum}')"
   ]
  },
  {
   "cell_type": "code",
   "execution_count": 52,
   "id": "882f6186",
   "metadata": {},
   "outputs": [
    {
     "name": "stdout",
     "output_type": "stream",
     "text": [
      "The range is -352, 1178\n"
     ]
    }
   ],
   "source": [
    "minimum = min(COVID19.new_death)\n",
    "maximum = max(COVID19.new_death)\n",
    "\n",
    "print(f'The range is {minimum}, {maximum}')"
   ]
  },
  {
   "cell_type": "code",
   "execution_count": 53,
   "id": "8ef2cb92",
   "metadata": {},
   "outputs": [
    {
     "name": "stdout",
     "output_type": "stream",
     "text": [
      "The range is -2594, 6452\n"
     ]
    }
   ],
   "source": [
    "minimum = min(COVID19.pnew_death)\n",
    "maximum = max(COVID19.prob_death)\n",
    "\n",
    "print(f'The range is {minimum}, {maximum}')"
   ]
  },
  {
   "cell_type": "code",
   "execution_count": 54,
   "id": "e76a2b17",
   "metadata": {},
   "outputs": [
    {
     "data": {
      "text/html": [
       "<div>\n",
       "<style scoped>\n",
       "    .dataframe tbody tr th:only-of-type {\n",
       "        vertical-align: middle;\n",
       "    }\n",
       "\n",
       "    .dataframe tbody tr th {\n",
       "        vertical-align: top;\n",
       "    }\n",
       "\n",
       "    .dataframe thead th {\n",
       "        text-align: right;\n",
       "    }\n",
       "</style>\n",
       "<table border=\"1\" class=\"dataframe\">\n",
       "  <thead>\n",
       "    <tr style=\"text-align: right;\">\n",
       "      <th></th>\n",
       "      <th>state</th>\n",
       "      <th>tot_cases</th>\n",
       "    </tr>\n",
       "  </thead>\n",
       "  <tbody>\n",
       "    <tr>\n",
       "      <th>0</th>\n",
       "      <td>AL</td>\n",
       "      <td>345108129</td>\n",
       "    </tr>\n",
       "    <tr>\n",
       "      <th>1</th>\n",
       "      <td>AZ</td>\n",
       "      <td>527739409</td>\n",
       "    </tr>\n",
       "    <tr>\n",
       "      <th>2</th>\n",
       "      <td>CA</td>\n",
       "      <td>1318659173</td>\n",
       "    </tr>\n",
       "    <tr>\n",
       "      <th>3</th>\n",
       "      <td>CO</td>\n",
       "      <td>325692081</td>\n",
       "    </tr>\n",
       "    <tr>\n",
       "      <th>4</th>\n",
       "      <td>CT</td>\n",
       "      <td>192933393</td>\n",
       "    </tr>\n",
       "    <tr>\n",
       "      <th>5</th>\n",
       "      <td>DE</td>\n",
       "      <td>64274644</td>\n",
       "    </tr>\n",
       "    <tr>\n",
       "      <th>6</th>\n",
       "      <td>FSM</td>\n",
       "      <td>1919</td>\n",
       "    </tr>\n",
       "    <tr>\n",
       "      <th>7</th>\n",
       "      <td>GA</td>\n",
       "      <td>689783472</td>\n",
       "    </tr>\n",
       "    <tr>\n",
       "      <th>8</th>\n",
       "      <td>ID</td>\n",
       "      <td>117488716</td>\n",
       "    </tr>\n",
       "    <tr>\n",
       "      <th>9</th>\n",
       "      <td>IL</td>\n",
       "      <td>812217009</td>\n",
       "    </tr>\n",
       "    <tr>\n",
       "      <th>10</th>\n",
       "      <td>KY</td>\n",
       "      <td>299617544</td>\n",
       "    </tr>\n",
       "    <tr>\n",
       "      <th>11</th>\n",
       "      <td>MA</td>\n",
       "      <td>402108591</td>\n",
       "    </tr>\n",
       "    <tr>\n",
       "      <th>12</th>\n",
       "      <td>ME</td>\n",
       "      <td>44018628</td>\n",
       "    </tr>\n",
       "    <tr>\n",
       "      <th>13</th>\n",
       "      <td>MI</td>\n",
       "      <td>593088978</td>\n",
       "    </tr>\n",
       "    <tr>\n",
       "      <th>14</th>\n",
       "      <td>MP</td>\n",
       "      <td>623720</td>\n",
       "    </tr>\n",
       "    <tr>\n",
       "      <th>15</th>\n",
       "      <td>MS</td>\n",
       "      <td>210873110</td>\n",
       "    </tr>\n",
       "    <tr>\n",
       "      <th>16</th>\n",
       "      <td>MT</td>\n",
       "      <td>69223686</td>\n",
       "    </tr>\n",
       "    <tr>\n",
       "      <th>17</th>\n",
       "      <td>NC</td>\n",
       "      <td>621050034</td>\n",
       "    </tr>\n",
       "    <tr>\n",
       "      <th>18</th>\n",
       "      <td>NE</td>\n",
       "      <td>64807694</td>\n",
       "    </tr>\n",
       "    <tr>\n",
       "      <th>19</th>\n",
       "      <td>NJ</td>\n",
       "      <td>518011265</td>\n",
       "    </tr>\n",
       "    <tr>\n",
       "      <th>20</th>\n",
       "      <td>NYC</td>\n",
       "      <td>568583138</td>\n",
       "    </tr>\n",
       "    <tr>\n",
       "      <th>21</th>\n",
       "      <td>OH</td>\n",
       "      <td>668138037</td>\n",
       "    </tr>\n",
       "    <tr>\n",
       "      <th>22</th>\n",
       "      <td>OK</td>\n",
       "      <td>273895855</td>\n",
       "    </tr>\n",
       "    <tr>\n",
       "      <th>23</th>\n",
       "      <td>OR</td>\n",
       "      <td>141342462</td>\n",
       "    </tr>\n",
       "    <tr>\n",
       "      <th>24</th>\n",
       "      <td>PR</td>\n",
       "      <td>90522738</td>\n",
       "    </tr>\n",
       "    <tr>\n",
       "      <th>25</th>\n",
       "      <td>RMI</td>\n",
       "      <td>2078</td>\n",
       "    </tr>\n",
       "    <tr>\n",
       "      <th>26</th>\n",
       "      <td>TN</td>\n",
       "      <td>530862828</td>\n",
       "    </tr>\n",
       "    <tr>\n",
       "      <th>27</th>\n",
       "      <td>UT</td>\n",
       "      <td>243528250</td>\n",
       "    </tr>\n",
       "    <tr>\n",
       "      <th>28</th>\n",
       "      <td>VA</td>\n",
       "      <td>406819192</td>\n",
       "    </tr>\n",
       "    <tr>\n",
       "      <th>29</th>\n",
       "      <td>WI</td>\n",
       "      <td>410443790</td>\n",
       "    </tr>\n",
       "    <tr>\n",
       "      <th>30</th>\n",
       "      <td>WY</td>\n",
       "      <td>39388720</td>\n",
       "    </tr>\n",
       "  </tbody>\n",
       "</table>\n",
       "</div>"
      ],
      "text/plain": [
       "   state   tot_cases\n",
       "0     AL   345108129\n",
       "1     AZ   527739409\n",
       "2     CA  1318659173\n",
       "3     CO   325692081\n",
       "4     CT   192933393\n",
       "5     DE    64274644\n",
       "6    FSM        1919\n",
       "7     GA   689783472\n",
       "8     ID   117488716\n",
       "9     IL   812217009\n",
       "10    KY   299617544\n",
       "11    MA   402108591\n",
       "12    ME    44018628\n",
       "13    MI   593088978\n",
       "14    MP      623720\n",
       "15    MS   210873110\n",
       "16    MT    69223686\n",
       "17    NC   621050034\n",
       "18    NE    64807694\n",
       "19    NJ   518011265\n",
       "20   NYC   568583138\n",
       "21    OH   668138037\n",
       "22    OK   273895855\n",
       "23    OR   141342462\n",
       "24    PR    90522738\n",
       "25   RMI        2078\n",
       "26    TN   530862828\n",
       "27    UT   243528250\n",
       "28    VA   406819192\n",
       "29    WI   410443790\n",
       "30    WY    39388720"
      ]
     },
     "execution_count": 54,
     "metadata": {},
     "output_type": "execute_result"
    }
   ],
   "source": [
    "#Sum of total cases by states\n",
    "\n",
    "sum_total_cases = COVID19.groupby(['state'])['tot_cases'].sum().reset_index()\n",
    "sum_total_cases"
   ]
  },
  {
   "cell_type": "code",
   "execution_count": 55,
   "id": "1de90488",
   "metadata": {},
   "outputs": [
    {
     "data": {
      "text/plain": [
       "<AxesSubplot:xlabel='tot_cases', ylabel='state'>"
      ]
     },
     "execution_count": 55,
     "metadata": {},
     "output_type": "execute_result"
    },
    {
     "data": {
      "image/png": "[encoded data removed]",
      "text/plain": [
       "<Figure size 1080x1440 with 1 Axes>"
      ]
     },
     "metadata": {
      "needs_background": "light"
     },
     "output_type": "display_data"
    }
   ],
   "source": [
    "# Total cases by states\n",
    "\n",
    "fig, ax = plt.subplots(1,1,figsize=(15, 20))\n",
    "sns.barplot(x=\"tot_cases\", y=\"state\", data=COVID19, color=\"g\")"
   ]
  },
  {
   "cell_type": "code",
   "execution_count": 56,
   "id": "afd0a44b",
   "metadata": {},
   "outputs": [
    {
     "data": {
      "text/html": [
       "<div>\n",
       "<style scoped>\n",
       "    .dataframe tbody tr th:only-of-type {\n",
       "        vertical-align: middle;\n",
       "    }\n",
       "\n",
       "    .dataframe tbody tr th {\n",
       "        vertical-align: top;\n",
       "    }\n",
       "\n",
       "    .dataframe thead th {\n",
       "        text-align: right;\n",
       "    }\n",
       "</style>\n",
       "<table border=\"1\" class=\"dataframe\">\n",
       "  <thead>\n",
       "    <tr style=\"text-align: right;\">\n",
       "      <th></th>\n",
       "      <th>state</th>\n",
       "      <th>tot_cases</th>\n",
       "    </tr>\n",
       "  </thead>\n",
       "  <tbody>\n",
       "    <tr>\n",
       "      <th>2</th>\n",
       "      <td>CA</td>\n",
       "      <td>1318659173</td>\n",
       "    </tr>\n",
       "    <tr>\n",
       "      <th>9</th>\n",
       "      <td>IL</td>\n",
       "      <td>812217009</td>\n",
       "    </tr>\n",
       "    <tr>\n",
       "      <th>7</th>\n",
       "      <td>GA</td>\n",
       "      <td>689783472</td>\n",
       "    </tr>\n",
       "    <tr>\n",
       "      <th>21</th>\n",
       "      <td>OH</td>\n",
       "      <td>668138037</td>\n",
       "    </tr>\n",
       "    <tr>\n",
       "      <th>17</th>\n",
       "      <td>NC</td>\n",
       "      <td>621050034</td>\n",
       "    </tr>\n",
       "    <tr>\n",
       "      <th>13</th>\n",
       "      <td>MI</td>\n",
       "      <td>593088978</td>\n",
       "    </tr>\n",
       "    <tr>\n",
       "      <th>20</th>\n",
       "      <td>NYC</td>\n",
       "      <td>568583138</td>\n",
       "    </tr>\n",
       "    <tr>\n",
       "      <th>26</th>\n",
       "      <td>TN</td>\n",
       "      <td>530862828</td>\n",
       "    </tr>\n",
       "    <tr>\n",
       "      <th>1</th>\n",
       "      <td>AZ</td>\n",
       "      <td>527739409</td>\n",
       "    </tr>\n",
       "    <tr>\n",
       "      <th>19</th>\n",
       "      <td>NJ</td>\n",
       "      <td>518011265</td>\n",
       "    </tr>\n",
       "    <tr>\n",
       "      <th>29</th>\n",
       "      <td>WI</td>\n",
       "      <td>410443790</td>\n",
       "    </tr>\n",
       "    <tr>\n",
       "      <th>28</th>\n",
       "      <td>VA</td>\n",
       "      <td>406819192</td>\n",
       "    </tr>\n",
       "    <tr>\n",
       "      <th>11</th>\n",
       "      <td>MA</td>\n",
       "      <td>402108591</td>\n",
       "    </tr>\n",
       "    <tr>\n",
       "      <th>0</th>\n",
       "      <td>AL</td>\n",
       "      <td>345108129</td>\n",
       "    </tr>\n",
       "    <tr>\n",
       "      <th>3</th>\n",
       "      <td>CO</td>\n",
       "      <td>325692081</td>\n",
       "    </tr>\n",
       "    <tr>\n",
       "      <th>10</th>\n",
       "      <td>KY</td>\n",
       "      <td>299617544</td>\n",
       "    </tr>\n",
       "    <tr>\n",
       "      <th>22</th>\n",
       "      <td>OK</td>\n",
       "      <td>273895855</td>\n",
       "    </tr>\n",
       "    <tr>\n",
       "      <th>27</th>\n",
       "      <td>UT</td>\n",
       "      <td>243528250</td>\n",
       "    </tr>\n",
       "    <tr>\n",
       "      <th>15</th>\n",
       "      <td>MS</td>\n",
       "      <td>210873110</td>\n",
       "    </tr>\n",
       "    <tr>\n",
       "      <th>4</th>\n",
       "      <td>CT</td>\n",
       "      <td>192933393</td>\n",
       "    </tr>\n",
       "  </tbody>\n",
       "</table>\n",
       "</div>"
      ],
      "text/plain": [
       "   state   tot_cases\n",
       "2     CA  1318659173\n",
       "9     IL   812217009\n",
       "7     GA   689783472\n",
       "21    OH   668138037\n",
       "17    NC   621050034\n",
       "13    MI   593088978\n",
       "20   NYC   568583138\n",
       "26    TN   530862828\n",
       "1     AZ   527739409\n",
       "19    NJ   518011265\n",
       "29    WI   410443790\n",
       "28    VA   406819192\n",
       "11    MA   402108591\n",
       "0     AL   345108129\n",
       "3     CO   325692081\n",
       "10    KY   299617544\n",
       "22    OK   273895855\n",
       "27    UT   243528250\n",
       "15    MS   210873110\n",
       "4     CT   192933393"
      ]
     },
     "execution_count": 56,
     "metadata": {},
     "output_type": "execute_result"
    }
   ],
   "source": [
    "# TOP 20 States based on the total cases\n",
    "\n",
    "TOP20 = sum_total_cases.nlargest(20,'tot_cases')\n",
    "TOP20"
   ]
  },
  {
   "cell_type": "code",
   "execution_count": 66,
   "id": "c4148d8e",
   "metadata": {},
   "outputs": [
    {
     "data": {
      "text/plain": [
       "Text(0.5, 0, 'State')"
      ]
     },
     "execution_count": 66,
     "metadata": {},
     "output_type": "execute_result"
    },
    {
     "data": {
      "image/png": "[encoded data removed]",
      "text/plain": [
       "<Figure size 432x288 with 1 Axes>"
      ]
     },
     "metadata": {
      "needs_background": "light"
     },
     "output_type": "display_data"
    }
   ],
   "source": [
    "plt.plot(TOP20.state, TOP20.tot_cases)\n",
    "plt.title(\"Top 20 states based on total cases\")\n",
    "plt.xlabel('State')"
   ]
  },
  {
   "cell_type": "code",
   "execution_count": 65,
   "id": "85f7b8da",
   "metadata": {},
   "outputs": [
    {
     "data": {
      "text/plain": [
       "Text(0.5, 0, 'State')"
      ]
     },
     "execution_count": 65,
     "metadata": {},
     "output_type": "execute_result"
    },
    {
     "data": {
      "image/png": "[encoded data removed]",
      "text/plain": [
       "<Figure size 432x288 with 1 Axes>"
      ]
     },
     "metadata": {
      "needs_background": "light"
     },
     "output_type": "display_data"
    }
   ],
   "source": [
    "plt.bar(TOP20.state, TOP20.tot_cases)\n",
    "plt.title(\"Top 20 states based on total cases\")\n",
    "plt.xlabel('State')"
   ]
  },
  {
   "cell_type": "code",
   "execution_count": 67,
   "id": "28e7cb15",
   "metadata": {},
   "outputs": [],
   "source": [
    "# Results \n",
    "# Based on the sum of total cases, CA has the most highest number of total cases which shows the 506,442,164 number of differecne between seoncd highest state IL."
   ]
  },
  {
   "cell_type": "code",
   "execution_count": 68,
   "id": "95604b0e",
   "metadata": {},
   "outputs": [],
   "source": [
    "# 3 - Trend analysis over the period provided for the US as well as top 3 states. \n",
    "# Use graphs / plots as well as a combined plot for the US vs top 3 states for comparison. Brief interpretation of your results."
   ]
  },
  {
   "cell_type": "code",
   "execution_count": 69,
   "id": "2d268315",
   "metadata": {},
   "outputs": [
    {
     "data": {
      "image/png": "[encoded data removed]",
      "text/plain": [
       "<Figure size 1440x720 with 1 Axes>"
      ]
     },
     "metadata": {
      "needs_background": "light"
     },
     "output_type": "display_data"
    }
   ],
   "source": [
    "COVID19.plot(figsize=(20,10), linewidth=5, fontsize=20)\n",
    "plt.xlabel('Year', fontsize=20);\n",
    "plt.grid()"
   ]
  },
  {
   "cell_type": "code",
   "execution_count": 70,
   "id": "5326089a",
   "metadata": {},
   "outputs": [
    {
     "name": "stderr",
     "output_type": "stream",
     "text": [
      "/var/folders/g8/yd7hf_jj1w166g47tg63v2zc0000gn/T/ipykernel_36108/2719422011.py:3: FutureWarning: Indexing with multiple keys (implicitly converted to a tuple of keys) will be deprecated, use a list instead.\n",
      "  Sum = COVID19.groupby(['state'])[('tot_cases','new_case','tot_death')].sum().reset_index()\n"
     ]
    },
    {
     "data": {
      "text/html": [
       "<div>\n",
       "<style scoped>\n",
       "    .dataframe tbody tr th:only-of-type {\n",
       "        vertical-align: middle;\n",
       "    }\n",
       "\n",
       "    .dataframe tbody tr th {\n",
       "        vertical-align: top;\n",
       "    }\n",
       "\n",
       "    .dataframe thead th {\n",
       "        text-align: right;\n",
       "    }\n",
       "</style>\n",
       "<table border=\"1\" class=\"dataframe\">\n",
       "  <thead>\n",
       "    <tr style=\"text-align: right;\">\n",
       "      <th></th>\n",
       "      <th>state</th>\n",
       "      <th>tot_cases</th>\n",
       "      <th>new_case</th>\n",
       "      <th>tot_death</th>\n",
       "    </tr>\n",
       "  </thead>\n",
       "  <tbody>\n",
       "    <tr>\n",
       "      <th>0</th>\n",
       "      <td>AL</td>\n",
       "      <td>345108129</td>\n",
       "      <td>1286862</td>\n",
       "      <td>6665867</td>\n",
       "    </tr>\n",
       "    <tr>\n",
       "      <th>1</th>\n",
       "      <td>AZ</td>\n",
       "      <td>527739409</td>\n",
       "      <td>1982599</td>\n",
       "      <td>9542291</td>\n",
       "    </tr>\n",
       "    <tr>\n",
       "      <th>2</th>\n",
       "      <td>CA</td>\n",
       "      <td>1318659173</td>\n",
       "      <td>4708036</td>\n",
       "      <td>20529490</td>\n",
       "    </tr>\n",
       "    <tr>\n",
       "      <th>3</th>\n",
       "      <td>CO</td>\n",
       "      <td>325692081</td>\n",
       "      <td>1321634</td>\n",
       "      <td>3908810</td>\n",
       "    </tr>\n",
       "    <tr>\n",
       "      <th>4</th>\n",
       "      <td>CT</td>\n",
       "      <td>192933393</td>\n",
       "      <td>709941</td>\n",
       "      <td>4811098</td>\n",
       "    </tr>\n",
       "    <tr>\n",
       "      <th>5</th>\n",
       "      <td>DE</td>\n",
       "      <td>64274644</td>\n",
       "      <td>254339</td>\n",
       "      <td>956672</td>\n",
       "    </tr>\n",
       "    <tr>\n",
       "      <th>6</th>\n",
       "      <td>FSM</td>\n",
       "      <td>1919</td>\n",
       "      <td>3</td>\n",
       "      <td>0</td>\n",
       "    </tr>\n",
       "    <tr>\n",
       "      <th>7</th>\n",
       "      <td>GA</td>\n",
       "      <td>689783472</td>\n",
       "      <td>2458605</td>\n",
       "      <td>11866038</td>\n",
       "    </tr>\n",
       "    <tr>\n",
       "      <th>8</th>\n",
       "      <td>ID</td>\n",
       "      <td>117488716</td>\n",
       "      <td>436445</td>\n",
       "      <td>1334261</td>\n",
       "    </tr>\n",
       "    <tr>\n",
       "      <th>9</th>\n",
       "      <td>IL</td>\n",
       "      <td>812217009</td>\n",
       "      <td>3016558</td>\n",
       "      <td>14007941</td>\n",
       "    </tr>\n",
       "    <tr>\n",
       "      <th>10</th>\n",
       "      <td>KY</td>\n",
       "      <td>299617544</td>\n",
       "      <td>1296462</td>\n",
       "      <td>4531482</td>\n",
       "    </tr>\n",
       "    <tr>\n",
       "      <th>11</th>\n",
       "      <td>MA</td>\n",
       "      <td>402108591</td>\n",
       "      <td>1620423</td>\n",
       "      <td>9515270</td>\n",
       "    </tr>\n",
       "    <tr>\n",
       "      <th>12</th>\n",
       "      <td>ME</td>\n",
       "      <td>44018628</td>\n",
       "      <td>232293</td>\n",
       "      <td>497863</td>\n",
       "    </tr>\n",
       "    <tr>\n",
       "      <th>13</th>\n",
       "      <td>MI</td>\n",
       "      <td>593088978</td>\n",
       "      <td>2371788</td>\n",
       "      <td>11787220</td>\n",
       "    </tr>\n",
       "    <tr>\n",
       "      <th>14</th>\n",
       "      <td>MP</td>\n",
       "      <td>623720</td>\n",
       "      <td>10379</td>\n",
       "      <td>3213</td>\n",
       "    </tr>\n",
       "    <tr>\n",
       "      <th>15</th>\n",
       "      <td>MS</td>\n",
       "      <td>210873110</td>\n",
       "      <td>782060</td>\n",
       "      <td>4469961</td>\n",
       "    </tr>\n",
       "    <tr>\n",
       "      <th>16</th>\n",
       "      <td>MT</td>\n",
       "      <td>69223686</td>\n",
       "      <td>269393</td>\n",
       "      <td>930597</td>\n",
       "    </tr>\n",
       "    <tr>\n",
       "      <th>17</th>\n",
       "      <td>NC</td>\n",
       "      <td>621050034</td>\n",
       "      <td>2608603</td>\n",
       "      <td>7651526</td>\n",
       "    </tr>\n",
       "    <tr>\n",
       "      <th>18</th>\n",
       "      <td>NE</td>\n",
       "      <td>64807694</td>\n",
       "      <td>205884</td>\n",
       "      <td>612141</td>\n",
       "    </tr>\n",
       "    <tr>\n",
       "      <th>19</th>\n",
       "      <td>NJ</td>\n",
       "      <td>518011265</td>\n",
       "      <td>1674064</td>\n",
       "      <td>11648827</td>\n",
       "    </tr>\n",
       "    <tr>\n",
       "      <th>20</th>\n",
       "      <td>NYC</td>\n",
       "      <td>568583138</td>\n",
       "      <td>2287411</td>\n",
       "      <td>20618827</td>\n",
       "    </tr>\n",
       "    <tr>\n",
       "      <th>21</th>\n",
       "      <td>OH</td>\n",
       "      <td>668138037</td>\n",
       "      <td>2652401</td>\n",
       "      <td>10821328</td>\n",
       "    </tr>\n",
       "    <tr>\n",
       "      <th>22</th>\n",
       "      <td>OK</td>\n",
       "      <td>273895855</td>\n",
       "      <td>962218</td>\n",
       "      <td>4122200</td>\n",
       "    </tr>\n",
       "    <tr>\n",
       "      <th>23</th>\n",
       "      <td>OR</td>\n",
       "      <td>141342462</td>\n",
       "      <td>697518</td>\n",
       "      <td>1723276</td>\n",
       "    </tr>\n",
       "    <tr>\n",
       "      <th>24</th>\n",
       "      <td>PR</td>\n",
       "      <td>90522738</td>\n",
       "      <td>475620</td>\n",
       "      <td>1348511</td>\n",
       "    </tr>\n",
       "    <tr>\n",
       "      <th>25</th>\n",
       "      <td>RMI</td>\n",
       "      <td>2078</td>\n",
       "      <td>4</td>\n",
       "      <td>0</td>\n",
       "    </tr>\n",
       "    <tr>\n",
       "      <th>26</th>\n",
       "      <td>TN</td>\n",
       "      <td>530862828</td>\n",
       "      <td>2001467</td>\n",
       "      <td>7023526</td>\n",
       "    </tr>\n",
       "    <tr>\n",
       "      <th>27</th>\n",
       "      <td>UT</td>\n",
       "      <td>243528250</td>\n",
       "      <td>922244</td>\n",
       "      <td>1322138</td>\n",
       "    </tr>\n",
       "    <tr>\n",
       "      <th>28</th>\n",
       "      <td>VA</td>\n",
       "      <td>406819192</td>\n",
       "      <td>1646690</td>\n",
       "      <td>5996899</td>\n",
       "    </tr>\n",
       "    <tr>\n",
       "      <th>29</th>\n",
       "      <td>WI</td>\n",
       "      <td>410443790</td>\n",
       "      <td>1573460</td>\n",
       "      <td>4282421</td>\n",
       "    </tr>\n",
       "    <tr>\n",
       "      <th>30</th>\n",
       "      <td>WY</td>\n",
       "      <td>39388720</td>\n",
       "      <td>155250</td>\n",
       "      <td>455944</td>\n",
       "    </tr>\n",
       "  </tbody>\n",
       "</table>\n",
       "</div>"
      ],
      "text/plain": [
       "   state   tot_cases  new_case  tot_death\n",
       "0     AL   345108129   1286862    6665867\n",
       "1     AZ   527739409   1982599    9542291\n",
       "2     CA  1318659173   4708036   20529490\n",
       "3     CO   325692081   1321634    3908810\n",
       "4     CT   192933393    709941    4811098\n",
       "5     DE    64274644    254339     956672\n",
       "6    FSM        1919         3          0\n",
       "7     GA   689783472   2458605   11866038\n",
       "8     ID   117488716    436445    1334261\n",
       "9     IL   812217009   3016558   14007941\n",
       "10    KY   299617544   1296462    4531482\n",
       "11    MA   402108591   1620423    9515270\n",
       "12    ME    44018628    232293     497863\n",
       "13    MI   593088978   2371788   11787220\n",
       "14    MP      623720     10379       3213\n",
       "15    MS   210873110    782060    4469961\n",
       "16    MT    69223686    269393     930597\n",
       "17    NC   621050034   2608603    7651526\n",
       "18    NE    64807694    205884     612141\n",
       "19    NJ   518011265   1674064   11648827\n",
       "20   NYC   568583138   2287411   20618827\n",
       "21    OH   668138037   2652401   10821328\n",
       "22    OK   273895855    962218    4122200\n",
       "23    OR   141342462    697518    1723276\n",
       "24    PR    90522738    475620    1348511\n",
       "25   RMI        2078         4          0\n",
       "26    TN   530862828   2001467    7023526\n",
       "27    UT   243528250    922244    1322138\n",
       "28    VA   406819192   1646690    5996899\n",
       "29    WI   410443790   1573460    4282421\n",
       "30    WY    39388720    155250     455944"
      ]
     },
     "execution_count": 70,
     "metadata": {},
     "output_type": "execute_result"
    }
   ],
   "source": [
    "# Sum of total cases, new cases and total death by States\n",
    "\n",
    "Sum = COVID19.groupby(['state'])[('tot_cases','new_case','tot_death')].sum().reset_index()\n",
    "Sum"
   ]
  },
  {
   "cell_type": "code",
   "execution_count": 71,
   "id": "9df453ab",
   "metadata": {},
   "outputs": [
    {
     "data": {
      "image/png": "[encoded data removed]",
      "text/plain": [
       "<Figure size 1440x720 with 1 Axes>"
      ]
     },
     "metadata": {
      "needs_background": "light"
     },
     "output_type": "display_data"
    }
   ],
   "source": [
    "df_rm = pd.concat([COVID19.tot_cases.rolling(12).mean(), \n",
    "                   COVID19.new_case.rolling(12).mean(), \n",
    "                   COVID19.tot_death.rolling(12).mean()], axis=1)\n",
    "df_rm.plot(figsize=(20,10), linewidth=5, fontsize=20)\n",
    "plt.grid()\n",
    "plt.xlabel('Year', fontsize=20);"
   ]
  },
  {
   "cell_type": "code",
   "execution_count": 72,
   "id": "6a0f2e30",
   "metadata": {},
   "outputs": [
    {
     "data": {
      "image/png": "[encoded data removed]",
      "text/plain": [
       "<Figure size 1440x288 with 1 Axes>"
      ]
     },
     "metadata": {
      "needs_background": "light"
     },
     "output_type": "display_data"
    }
   ],
   "source": [
    "plt.figure(figsize=(20,4))\n",
    "COVID19['tot_cases'].plot(color='green')\n",
    "plt.xlabel('Year')\n",
    "plt.ylabel('tot_cases')\n",
    "plt.grid()\n",
    "plt.show()"
   ]
  },
  {
   "cell_type": "code",
   "execution_count": 73,
   "id": "8d4d5a68",
   "metadata": {},
   "outputs": [
    {
     "data": {
      "text/plain": [
       "count    2.110200e+04\n",
       "mean     5.018884e+05\n",
       "std      6.734335e+05\n",
       "min      0.000000e+00\n",
       "25%      4.238975e+04\n",
       "50%      2.343125e+05\n",
       "75%      7.471500e+05\n",
       "max      4.885289e+06\n",
       "Name: tot_cases, dtype: float64"
      ]
     },
     "execution_count": 73,
     "metadata": {},
     "output_type": "execute_result"
    }
   ],
   "source": [
    "COVID19['tot_cases'].describe()"
   ]
  },
  {
   "cell_type": "code",
   "execution_count": 74,
   "id": "b99fc47e",
   "metadata": {},
   "outputs": [
    {
     "data": {
      "image/png": "[encoded data removed]",
      "text/plain": [
       "<Figure size 1440x288 with 1 Axes>"
      ]
     },
     "metadata": {
      "needs_background": "light"
     },
     "output_type": "display_data"
    }
   ],
   "source": [
    "plt.figure(figsize=(20,4))\n",
    "COVID19['new_case'].plot(color='purple')\n",
    "plt.xlabel('Year')\n",
    "plt.ylabel('new_case')\n",
    "plt.grid()\n",
    "plt.show()"
   ]
  },
  {
   "cell_type": "code",
   "execution_count": 75,
   "id": "55060065",
   "metadata": {},
   "outputs": [
    {
     "data": {
      "text/plain": [
       "count     21102.000000\n",
       "mean       1924.967017\n",
       "std        4406.507135\n",
       "min       -4803.000000\n",
       "25%         123.000000\n",
       "50%         636.500000\n",
       "75%        1947.000000\n",
       "max      125572.000000\n",
       "Name: new_case, dtype: float64"
      ]
     },
     "execution_count": 75,
     "metadata": {},
     "output_type": "execute_result"
    }
   ],
   "source": [
    "COVID19['new_case'].describe()"
   ]
  },
  {
   "cell_type": "code",
   "execution_count": 76,
   "id": "fcef5e0c",
   "metadata": {},
   "outputs": [
    {
     "data": {
      "image/png": "[encoded data removed]",
      "text/plain": [
       "<Figure size 1440x288 with 1 Axes>"
      ]
     },
     "metadata": {
      "needs_background": "light"
     },
     "output_type": "display_data"
    }
   ],
   "source": [
    "plt.figure(figsize=(20,4))\n",
    "COVID19['tot_death'].plot(color='red')\n",
    "plt.xlabel('Year')\n",
    "plt.ylabel('tot_death')\n",
    "plt.grid()\n",
    "plt.show()"
   ]
  },
  {
   "cell_type": "code",
   "execution_count": 77,
   "id": "31d1bc44",
   "metadata": {},
   "outputs": [
    {
     "data": {
      "text/plain": [
       "count    21102.000000\n",
       "mean      8671.483177\n",
       "std      10995.840457\n",
       "min          0.000000\n",
       "25%        772.000000\n",
       "50%       4099.000000\n",
       "75%      12585.250000\n",
       "max      71408.000000\n",
       "Name: tot_death, dtype: float64"
      ]
     },
     "execution_count": 77,
     "metadata": {},
     "output_type": "execute_result"
    }
   ],
   "source": [
    "COVID19['tot_death'].describe()"
   ]
  },
  {
   "cell_type": "code",
   "execution_count": 78,
   "id": "5023a1b5",
   "metadata": {},
   "outputs": [
    {
     "data": {
      "text/html": [
       "<div>\n",
       "<style scoped>\n",
       "    .dataframe tbody tr th:only-of-type {\n",
       "        vertical-align: middle;\n",
       "    }\n",
       "\n",
       "    .dataframe tbody tr th {\n",
       "        vertical-align: top;\n",
       "    }\n",
       "\n",
       "    .dataframe thead th {\n",
       "        text-align: right;\n",
       "    }\n",
       "</style>\n",
       "<table border=\"1\" class=\"dataframe\">\n",
       "  <thead>\n",
       "    <tr style=\"text-align: right;\">\n",
       "      <th></th>\n",
       "      <th>state</th>\n",
       "      <th>tot_cases</th>\n",
       "      <th>new_case</th>\n",
       "      <th>tot_death</th>\n",
       "    </tr>\n",
       "  </thead>\n",
       "  <tbody>\n",
       "    <tr>\n",
       "      <th>2</th>\n",
       "      <td>CA</td>\n",
       "      <td>1318659173</td>\n",
       "      <td>4708036</td>\n",
       "      <td>20529490</td>\n",
       "    </tr>\n",
       "    <tr>\n",
       "      <th>9</th>\n",
       "      <td>IL</td>\n",
       "      <td>812217009</td>\n",
       "      <td>3016558</td>\n",
       "      <td>14007941</td>\n",
       "    </tr>\n",
       "    <tr>\n",
       "      <th>7</th>\n",
       "      <td>GA</td>\n",
       "      <td>689783472</td>\n",
       "      <td>2458605</td>\n",
       "      <td>11866038</td>\n",
       "    </tr>\n",
       "  </tbody>\n",
       "</table>\n",
       "</div>"
      ],
      "text/plain": [
       "  state   tot_cases  new_case  tot_death\n",
       "2    CA  1318659173   4708036   20529490\n",
       "9    IL   812217009   3016558   14007941\n",
       "7    GA   689783472   2458605   11866038"
      ]
     },
     "execution_count": 78,
     "metadata": {},
     "output_type": "execute_result"
    }
   ],
   "source": [
    "# Top 3 States based on the sum of Total cases, new cases and total death\n",
    "\n",
    "Top3T = Sum.nlargest(3,'tot_cases')\n",
    "Top3T"
   ]
  },
  {
   "cell_type": "code",
   "execution_count": 79,
   "id": "2285f1c7",
   "metadata": {},
   "outputs": [
    {
     "data": {
      "image/png": "[encoded data removed]",
      "text/plain": [
       "<Figure size 1440x720 with 1 Axes>"
      ]
     },
     "metadata": {
      "needs_background": "light"
     },
     "output_type": "display_data"
    }
   ],
   "source": [
    "plt.figure(figsize=(20,10))\n",
    "plt.bar(Top3T.state,Top3T.tot_cases, color='green')\n",
    "plt.title('Top 3 states based on the total cases')\n",
    "plt.xlabel('State')\n",
    "plt.ylabel('tot_cases')\n",
    "plt.show()"
   ]
  },
  {
   "cell_type": "code",
   "execution_count": 80,
   "id": "6cf104c1",
   "metadata": {},
   "outputs": [
    {
     "data": {
      "text/html": [
       "<div>\n",
       "<style scoped>\n",
       "    .dataframe tbody tr th:only-of-type {\n",
       "        vertical-align: middle;\n",
       "    }\n",
       "\n",
       "    .dataframe tbody tr th {\n",
       "        vertical-align: top;\n",
       "    }\n",
       "\n",
       "    .dataframe thead th {\n",
       "        text-align: right;\n",
       "    }\n",
       "</style>\n",
       "<table border=\"1\" class=\"dataframe\">\n",
       "  <thead>\n",
       "    <tr style=\"text-align: right;\">\n",
       "      <th></th>\n",
       "      <th>state</th>\n",
       "      <th>tot_cases</th>\n",
       "      <th>new_case</th>\n",
       "      <th>tot_death</th>\n",
       "    </tr>\n",
       "  </thead>\n",
       "  <tbody>\n",
       "    <tr>\n",
       "      <th>2</th>\n",
       "      <td>CA</td>\n",
       "      <td>1318659173</td>\n",
       "      <td>4708036</td>\n",
       "      <td>20529490</td>\n",
       "    </tr>\n",
       "    <tr>\n",
       "      <th>9</th>\n",
       "      <td>IL</td>\n",
       "      <td>812217009</td>\n",
       "      <td>3016558</td>\n",
       "      <td>14007941</td>\n",
       "    </tr>\n",
       "    <tr>\n",
       "      <th>21</th>\n",
       "      <td>OH</td>\n",
       "      <td>668138037</td>\n",
       "      <td>2652401</td>\n",
       "      <td>10821328</td>\n",
       "    </tr>\n",
       "  </tbody>\n",
       "</table>\n",
       "</div>"
      ],
      "text/plain": [
       "   state   tot_cases  new_case  tot_death\n",
       "2     CA  1318659173   4708036   20529490\n",
       "9     IL   812217009   3016558   14007941\n",
       "21    OH   668138037   2652401   10821328"
      ]
     },
     "execution_count": 80,
     "metadata": {},
     "output_type": "execute_result"
    }
   ],
   "source": [
    "# Top 3 States based on the sum new cases \n",
    "\n",
    "Top3N = Sum.nlargest(3,'new_case')\n",
    "Top3N"
   ]
  },
  {
   "cell_type": "code",
   "execution_count": 81,
   "id": "24811de3",
   "metadata": {},
   "outputs": [
    {
     "data": {
      "image/png": "[encoded data removed]",
      "text/plain": [
       "<Figure size 1440x720 with 1 Axes>"
      ]
     },
     "metadata": {
      "needs_background": "light"
     },
     "output_type": "display_data"
    }
   ],
   "source": [
    "plt.figure(figsize=(20,10))\n",
    "plt.bar(Top3N.state,Top3N.new_case)\n",
    "plt.title('Top 3 states based on the new cases')\n",
    "plt.xlabel('State')\n",
    "plt.ylabel('new_case')\n",
    "plt.show()"
   ]
  },
  {
   "cell_type": "code",
   "execution_count": 82,
   "id": "091c1684",
   "metadata": {},
   "outputs": [
    {
     "data": {
      "text/html": [
       "<div>\n",
       "<style scoped>\n",
       "    .dataframe tbody tr th:only-of-type {\n",
       "        vertical-align: middle;\n",
       "    }\n",
       "\n",
       "    .dataframe tbody tr th {\n",
       "        vertical-align: top;\n",
       "    }\n",
       "\n",
       "    .dataframe thead th {\n",
       "        text-align: right;\n",
       "    }\n",
       "</style>\n",
       "<table border=\"1\" class=\"dataframe\">\n",
       "  <thead>\n",
       "    <tr style=\"text-align: right;\">\n",
       "      <th></th>\n",
       "      <th>state</th>\n",
       "      <th>tot_cases</th>\n",
       "      <th>new_case</th>\n",
       "      <th>tot_death</th>\n",
       "    </tr>\n",
       "  </thead>\n",
       "  <tbody>\n",
       "    <tr>\n",
       "      <th>20</th>\n",
       "      <td>NYC</td>\n",
       "      <td>568583138</td>\n",
       "      <td>2287411</td>\n",
       "      <td>20618827</td>\n",
       "    </tr>\n",
       "    <tr>\n",
       "      <th>2</th>\n",
       "      <td>CA</td>\n",
       "      <td>1318659173</td>\n",
       "      <td>4708036</td>\n",
       "      <td>20529490</td>\n",
       "    </tr>\n",
       "    <tr>\n",
       "      <th>9</th>\n",
       "      <td>IL</td>\n",
       "      <td>812217009</td>\n",
       "      <td>3016558</td>\n",
       "      <td>14007941</td>\n",
       "    </tr>\n",
       "  </tbody>\n",
       "</table>\n",
       "</div>"
      ],
      "text/plain": [
       "   state   tot_cases  new_case  tot_death\n",
       "20   NYC   568583138   2287411   20618827\n",
       "2     CA  1318659173   4708036   20529490\n",
       "9     IL   812217009   3016558   14007941"
      ]
     },
     "execution_count": 82,
     "metadata": {},
     "output_type": "execute_result"
    }
   ],
   "source": [
    "# Top 3 States based on the total death\n",
    "\n",
    "Top3D = Sum.nlargest(3,'tot_death')\n",
    "Top3D"
   ]
  },
  {
   "cell_type": "code",
   "execution_count": 83,
   "id": "04ed560c",
   "metadata": {},
   "outputs": [
    {
     "data": {
      "image/png": "[encoded data removed]",
      "text/plain": [
       "<Figure size 1440x720 with 1 Axes>"
      ]
     },
     "metadata": {
      "needs_background": "light"
     },
     "output_type": "display_data"
    }
   ],
   "source": [
    "plt.figure(figsize=(20,10))\n",
    "plt.bar(Top3D.state,Top3D.tot_death, color='red')\n",
    "plt.title('Top 3 states based on the tot_death')\n",
    "plt.xlabel('State')\n",
    "plt.ylabel('tot_death')\n",
    "plt.show()"
   ]
  },
  {
   "cell_type": "code",
   "execution_count": 84,
   "id": "69f924d9",
   "metadata": {},
   "outputs": [],
   "source": [
    "# Results\n",
    "# The color of green shows the trend analysis of total cases, purple shows trend analysis of new cases,\n",
    "# and red shows the trend analysis of total death. After the year of 2021, the total cases of the COVID19 increased rapdily until October 2021.\n",
    "# However, the number of total cases dropped since Novemer 2021 till today. Based on the new cases, we faced with two big trends during 2 years.\n",
    "# First one was december 2020 to Feburary 2021, and December 2021 to Febuary 2022 which can tell we had rapid new cases \n",
    "# during the winter seasons with different variants.\n",
    "\n",
    "# Based on the total death data, US had the most total death number during the year of 2021 and the max number is 71,408.\n",
    "# California has the most highest number of total cases and new cases. Illinois has the second highest number of total cases and new cases.\n",
    "# Suprisingly, NYC is not the top 3 state of the total cases but it had the most number of total death. \n",
    "# However, California also had very similar number of total death, and the last is Illinois."
   ]
  },
  {
   "cell_type": "code",
   "execution_count": 85,
   "id": "6511febb",
   "metadata": {},
   "outputs": [],
   "source": [
    "# 4 - Weekly rolling average for the US new cases. Brief interpretation of your results."
   ]
  },
  {
   "cell_type": "code",
   "execution_count": 87,
   "id": "dee54ee8",
   "metadata": {},
   "outputs": [
    {
     "data": {
      "text/html": [
       "<div>\n",
       "<style scoped>\n",
       "    .dataframe tbody tr th:only-of-type {\n",
       "        vertical-align: middle;\n",
       "    }\n",
       "\n",
       "    .dataframe tbody tr th {\n",
       "        vertical-align: top;\n",
       "    }\n",
       "\n",
       "    .dataframe thead th {\n",
       "        text-align: right;\n",
       "    }\n",
       "</style>\n",
       "<table border=\"1\" class=\"dataframe\">\n",
       "  <thead>\n",
       "    <tr style=\"text-align: right;\">\n",
       "      <th></th>\n",
       "      <th>state</th>\n",
       "      <th>new_case</th>\n",
       "    </tr>\n",
       "  </thead>\n",
       "  <tbody>\n",
       "    <tr>\n",
       "      <th>0</th>\n",
       "      <td>AL</td>\n",
       "      <td>1286862</td>\n",
       "    </tr>\n",
       "    <tr>\n",
       "      <th>1</th>\n",
       "      <td>AZ</td>\n",
       "      <td>1982599</td>\n",
       "    </tr>\n",
       "    <tr>\n",
       "      <th>2</th>\n",
       "      <td>CA</td>\n",
       "      <td>4708036</td>\n",
       "    </tr>\n",
       "    <tr>\n",
       "      <th>3</th>\n",
       "      <td>CO</td>\n",
       "      <td>1321634</td>\n",
       "    </tr>\n",
       "    <tr>\n",
       "      <th>4</th>\n",
       "      <td>CT</td>\n",
       "      <td>709941</td>\n",
       "    </tr>\n",
       "    <tr>\n",
       "      <th>5</th>\n",
       "      <td>DE</td>\n",
       "      <td>254339</td>\n",
       "    </tr>\n",
       "    <tr>\n",
       "      <th>6</th>\n",
       "      <td>FSM</td>\n",
       "      <td>3</td>\n",
       "    </tr>\n",
       "    <tr>\n",
       "      <th>7</th>\n",
       "      <td>GA</td>\n",
       "      <td>2458605</td>\n",
       "    </tr>\n",
       "    <tr>\n",
       "      <th>8</th>\n",
       "      <td>ID</td>\n",
       "      <td>436445</td>\n",
       "    </tr>\n",
       "    <tr>\n",
       "      <th>9</th>\n",
       "      <td>IL</td>\n",
       "      <td>3016558</td>\n",
       "    </tr>\n",
       "    <tr>\n",
       "      <th>10</th>\n",
       "      <td>KY</td>\n",
       "      <td>1296462</td>\n",
       "    </tr>\n",
       "    <tr>\n",
       "      <th>11</th>\n",
       "      <td>MA</td>\n",
       "      <td>1620423</td>\n",
       "    </tr>\n",
       "    <tr>\n",
       "      <th>12</th>\n",
       "      <td>ME</td>\n",
       "      <td>232293</td>\n",
       "    </tr>\n",
       "    <tr>\n",
       "      <th>13</th>\n",
       "      <td>MI</td>\n",
       "      <td>2371788</td>\n",
       "    </tr>\n",
       "    <tr>\n",
       "      <th>14</th>\n",
       "      <td>MP</td>\n",
       "      <td>10379</td>\n",
       "    </tr>\n",
       "    <tr>\n",
       "      <th>15</th>\n",
       "      <td>MS</td>\n",
       "      <td>782060</td>\n",
       "    </tr>\n",
       "    <tr>\n",
       "      <th>16</th>\n",
       "      <td>MT</td>\n",
       "      <td>269393</td>\n",
       "    </tr>\n",
       "    <tr>\n",
       "      <th>17</th>\n",
       "      <td>NC</td>\n",
       "      <td>2608603</td>\n",
       "    </tr>\n",
       "    <tr>\n",
       "      <th>18</th>\n",
       "      <td>NE</td>\n",
       "      <td>205884</td>\n",
       "    </tr>\n",
       "    <tr>\n",
       "      <th>19</th>\n",
       "      <td>NJ</td>\n",
       "      <td>1674064</td>\n",
       "    </tr>\n",
       "    <tr>\n",
       "      <th>20</th>\n",
       "      <td>NYC</td>\n",
       "      <td>2287411</td>\n",
       "    </tr>\n",
       "    <tr>\n",
       "      <th>21</th>\n",
       "      <td>OH</td>\n",
       "      <td>2652401</td>\n",
       "    </tr>\n",
       "    <tr>\n",
       "      <th>22</th>\n",
       "      <td>OK</td>\n",
       "      <td>962218</td>\n",
       "    </tr>\n",
       "    <tr>\n",
       "      <th>23</th>\n",
       "      <td>OR</td>\n",
       "      <td>697518</td>\n",
       "    </tr>\n",
       "    <tr>\n",
       "      <th>24</th>\n",
       "      <td>PR</td>\n",
       "      <td>475620</td>\n",
       "    </tr>\n",
       "    <tr>\n",
       "      <th>25</th>\n",
       "      <td>RMI</td>\n",
       "      <td>4</td>\n",
       "    </tr>\n",
       "    <tr>\n",
       "      <th>26</th>\n",
       "      <td>TN</td>\n",
       "      <td>2001467</td>\n",
       "    </tr>\n",
       "    <tr>\n",
       "      <th>27</th>\n",
       "      <td>UT</td>\n",
       "      <td>922244</td>\n",
       "    </tr>\n",
       "    <tr>\n",
       "      <th>28</th>\n",
       "      <td>VA</td>\n",
       "      <td>1646690</td>\n",
       "    </tr>\n",
       "    <tr>\n",
       "      <th>29</th>\n",
       "      <td>WI</td>\n",
       "      <td>1573460</td>\n",
       "    </tr>\n",
       "    <tr>\n",
       "      <th>30</th>\n",
       "      <td>WY</td>\n",
       "      <td>155250</td>\n",
       "    </tr>\n",
       "  </tbody>\n",
       "</table>\n",
       "</div>"
      ],
      "text/plain": [
       "   state  new_case\n",
       "0     AL   1286862\n",
       "1     AZ   1982599\n",
       "2     CA   4708036\n",
       "3     CO   1321634\n",
       "4     CT    709941\n",
       "5     DE    254339\n",
       "6    FSM         3\n",
       "7     GA   2458605\n",
       "8     ID    436445\n",
       "9     IL   3016558\n",
       "10    KY   1296462\n",
       "11    MA   1620423\n",
       "12    ME    232293\n",
       "13    MI   2371788\n",
       "14    MP     10379\n",
       "15    MS    782060\n",
       "16    MT    269393\n",
       "17    NC   2608603\n",
       "18    NE    205884\n",
       "19    NJ   1674064\n",
       "20   NYC   2287411\n",
       "21    OH   2652401\n",
       "22    OK    962218\n",
       "23    OR    697518\n",
       "24    PR    475620\n",
       "25   RMI         4\n",
       "26    TN   2001467\n",
       "27    UT    922244\n",
       "28    VA   1646690\n",
       "29    WI   1573460\n",
       "30    WY    155250"
      ]
     },
     "execution_count": 87,
     "metadata": {},
     "output_type": "execute_result"
    }
   ],
   "source": [
    "Sum = COVID19.groupby(['state'])[('new_case')].sum().reset_index()\n",
    "Sum"
   ]
  },
  {
   "cell_type": "code",
   "execution_count": 88,
   "id": "01405208",
   "metadata": {},
   "outputs": [
    {
     "data": {
      "text/html": [
       "<div>\n",
       "<style scoped>\n",
       "    .dataframe tbody tr th:only-of-type {\n",
       "        vertical-align: middle;\n",
       "    }\n",
       "\n",
       "    .dataframe tbody tr th {\n",
       "        vertical-align: top;\n",
       "    }\n",
       "\n",
       "    .dataframe thead th {\n",
       "        text-align: right;\n",
       "    }\n",
       "</style>\n",
       "<table border=\"1\" class=\"dataframe\">\n",
       "  <thead>\n",
       "    <tr style=\"text-align: right;\">\n",
       "      <th></th>\n",
       "      <th>state</th>\n",
       "      <th>tot_cases</th>\n",
       "      <th>conf_cases</th>\n",
       "      <th>prob_cases</th>\n",
       "      <th>new_case</th>\n",
       "      <th>pnew_case</th>\n",
       "      <th>tot_death</th>\n",
       "      <th>conf_death</th>\n",
       "      <th>prob_death</th>\n",
       "      <th>new_death</th>\n",
       "      <th>pnew_death</th>\n",
       "      <th>consent_cases</th>\n",
       "      <th>consent_deaths</th>\n",
       "    </tr>\n",
       "    <tr>\n",
       "      <th>submission_date</th>\n",
       "      <th></th>\n",
       "      <th></th>\n",
       "      <th></th>\n",
       "      <th></th>\n",
       "      <th></th>\n",
       "      <th></th>\n",
       "      <th></th>\n",
       "      <th></th>\n",
       "      <th></th>\n",
       "      <th></th>\n",
       "      <th></th>\n",
       "      <th></th>\n",
       "      <th></th>\n",
       "    </tr>\n",
       "  </thead>\n",
       "  <tbody>\n",
       "    <tr>\n",
       "      <th>2020-01-22</th>\n",
       "      <td>AL</td>\n",
       "      <td>0</td>\n",
       "      <td>0</td>\n",
       "      <td>0</td>\n",
       "      <td>0</td>\n",
       "      <td>0</td>\n",
       "      <td>0</td>\n",
       "      <td>0</td>\n",
       "      <td>0</td>\n",
       "      <td>0</td>\n",
       "      <td>0</td>\n",
       "      <td>Agree</td>\n",
       "      <td>Agree</td>\n",
       "    </tr>\n",
       "    <tr>\n",
       "      <th>2020-01-22</th>\n",
       "      <td>ME</td>\n",
       "      <td>0</td>\n",
       "      <td>0</td>\n",
       "      <td>0</td>\n",
       "      <td>0</td>\n",
       "      <td>0</td>\n",
       "      <td>0</td>\n",
       "      <td>0</td>\n",
       "      <td>0</td>\n",
       "      <td>0</td>\n",
       "      <td>0</td>\n",
       "      <td>Agree</td>\n",
       "      <td>Agree</td>\n",
       "    </tr>\n",
       "    <tr>\n",
       "      <th>2020-01-22</th>\n",
       "      <td>MP</td>\n",
       "      <td>0</td>\n",
       "      <td>0</td>\n",
       "      <td>0</td>\n",
       "      <td>0</td>\n",
       "      <td>0</td>\n",
       "      <td>0</td>\n",
       "      <td>0</td>\n",
       "      <td>0</td>\n",
       "      <td>0</td>\n",
       "      <td>0</td>\n",
       "      <td>Agree</td>\n",
       "      <td>Agree</td>\n",
       "    </tr>\n",
       "    <tr>\n",
       "      <th>2020-01-23</th>\n",
       "      <td>MP</td>\n",
       "      <td>0</td>\n",
       "      <td>0</td>\n",
       "      <td>0</td>\n",
       "      <td>0</td>\n",
       "      <td>0</td>\n",
       "      <td>0</td>\n",
       "      <td>0</td>\n",
       "      <td>0</td>\n",
       "      <td>0</td>\n",
       "      <td>0</td>\n",
       "      <td>Agree</td>\n",
       "      <td>Agree</td>\n",
       "    </tr>\n",
       "    <tr>\n",
       "      <th>2020-01-23</th>\n",
       "      <td>AL</td>\n",
       "      <td>0</td>\n",
       "      <td>0</td>\n",
       "      <td>0</td>\n",
       "      <td>0</td>\n",
       "      <td>0</td>\n",
       "      <td>0</td>\n",
       "      <td>0</td>\n",
       "      <td>0</td>\n",
       "      <td>0</td>\n",
       "      <td>0</td>\n",
       "      <td>Agree</td>\n",
       "      <td>Agree</td>\n",
       "    </tr>\n",
       "    <tr>\n",
       "      <th>...</th>\n",
       "      <td>...</td>\n",
       "      <td>...</td>\n",
       "      <td>...</td>\n",
       "      <td>...</td>\n",
       "      <td>...</td>\n",
       "      <td>...</td>\n",
       "      <td>...</td>\n",
       "      <td>...</td>\n",
       "      <td>...</td>\n",
       "      <td>...</td>\n",
       "      <td>...</td>\n",
       "      <td>...</td>\n",
       "      <td>...</td>\n",
       "    </tr>\n",
       "    <tr>\n",
       "      <th>2022-03-13</th>\n",
       "      <td>MI</td>\n",
       "      <td>2371788</td>\n",
       "      <td>2065912</td>\n",
       "      <td>305876</td>\n",
       "      <td>0</td>\n",
       "      <td>0</td>\n",
       "      <td>35188</td>\n",
       "      <td>32419</td>\n",
       "      <td>2769</td>\n",
       "      <td>0</td>\n",
       "      <td>0</td>\n",
       "      <td>Agree</td>\n",
       "      <td>Agree</td>\n",
       "    </tr>\n",
       "    <tr>\n",
       "      <th>2022-03-13</th>\n",
       "      <td>PR</td>\n",
       "      <td>476063</td>\n",
       "      <td>267827</td>\n",
       "      <td>208236</td>\n",
       "      <td>295</td>\n",
       "      <td>145</td>\n",
       "      <td>4150</td>\n",
       "      <td>3455</td>\n",
       "      <td>695</td>\n",
       "      <td>0</td>\n",
       "      <td>0</td>\n",
       "      <td>Agree</td>\n",
       "      <td>Agree</td>\n",
       "    </tr>\n",
       "    <tr>\n",
       "      <th>2022-03-13</th>\n",
       "      <td>NYC</td>\n",
       "      <td>2287411</td>\n",
       "      <td>1946037</td>\n",
       "      <td>341374</td>\n",
       "      <td>1900</td>\n",
       "      <td>258</td>\n",
       "      <td>39942</td>\n",
       "      <td>34441</td>\n",
       "      <td>5501</td>\n",
       "      <td>15</td>\n",
       "      <td>1</td>\n",
       "      <td>Agree</td>\n",
       "      <td>Agree</td>\n",
       "    </tr>\n",
       "    <tr>\n",
       "      <th>2022-03-13</th>\n",
       "      <td>OK</td>\n",
       "      <td>1027663</td>\n",
       "      <td>752427</td>\n",
       "      <td>275236</td>\n",
       "      <td>0</td>\n",
       "      <td>0</td>\n",
       "      <td>13513</td>\n",
       "      <td>9604</td>\n",
       "      <td>3909</td>\n",
       "      <td>0</td>\n",
       "      <td>0</td>\n",
       "      <td>Agree</td>\n",
       "      <td>Agree</td>\n",
       "    </tr>\n",
       "    <tr>\n",
       "      <th>2022-03-13</th>\n",
       "      <td>IL</td>\n",
       "      <td>3045718</td>\n",
       "      <td>3045718</td>\n",
       "      <td>0</td>\n",
       "      <td>0</td>\n",
       "      <td>0</td>\n",
       "      <td>37310</td>\n",
       "      <td>33075</td>\n",
       "      <td>4235</td>\n",
       "      <td>0</td>\n",
       "      <td>0</td>\n",
       "      <td>Agree</td>\n",
       "      <td>Agree</td>\n",
       "    </tr>\n",
       "  </tbody>\n",
       "</table>\n",
       "<p>21102 rows × 13 columns</p>\n",
       "</div>"
      ],
      "text/plain": [
       "                state  tot_cases  conf_cases  prob_cases  new_case  pnew_case  \\\n",
       "submission_date                                                                 \n",
       "2020-01-22         AL          0           0           0         0          0   \n",
       "2020-01-22         ME          0           0           0         0          0   \n",
       "2020-01-22         MP          0           0           0         0          0   \n",
       "2020-01-23         MP          0           0           0         0          0   \n",
       "2020-01-23         AL          0           0           0         0          0   \n",
       "...               ...        ...         ...         ...       ...        ...   \n",
       "2022-03-13         MI    2371788     2065912      305876         0          0   \n",
       "2022-03-13         PR     476063      267827      208236       295        145   \n",
       "2022-03-13        NYC    2287411     1946037      341374      1900        258   \n",
       "2022-03-13         OK    1027663      752427      275236         0          0   \n",
       "2022-03-13         IL    3045718     3045718           0         0          0   \n",
       "\n",
       "                 tot_death  conf_death  prob_death  new_death  pnew_death  \\\n",
       "submission_date                                                             \n",
       "2020-01-22               0           0           0          0           0   \n",
       "2020-01-22               0           0           0          0           0   \n",
       "2020-01-22               0           0           0          0           0   \n",
       "2020-01-23               0           0           0          0           0   \n",
       "2020-01-23               0           0           0          0           0   \n",
       "...                    ...         ...         ...        ...         ...   \n",
       "2022-03-13           35188       32419        2769          0           0   \n",
       "2022-03-13            4150        3455         695          0           0   \n",
       "2022-03-13           39942       34441        5501         15           1   \n",
       "2022-03-13           13513        9604        3909          0           0   \n",
       "2022-03-13           37310       33075        4235          0           0   \n",
       "\n",
       "                consent_cases consent_deaths  \n",
       "submission_date                               \n",
       "2020-01-22              Agree          Agree  \n",
       "2020-01-22              Agree          Agree  \n",
       "2020-01-22              Agree          Agree  \n",
       "2020-01-23              Agree          Agree  \n",
       "2020-01-23              Agree          Agree  \n",
       "...                       ...            ...  \n",
       "2022-03-13              Agree          Agree  \n",
       "2022-03-13              Agree          Agree  \n",
       "2022-03-13              Agree          Agree  \n",
       "2022-03-13              Agree          Agree  \n",
       "2022-03-13              Agree          Agree  \n",
       "\n",
       "[21102 rows x 13 columns]"
      ]
     },
     "execution_count": 88,
     "metadata": {},
     "output_type": "execute_result"
    }
   ],
   "source": [
    "COVID19_datesorted = COVID19.sort_index()\n",
    "COVID19"
   ]
  },
  {
   "cell_type": "code",
   "execution_count": 105,
   "id": "d750b0e9",
   "metadata": {},
   "outputs": [
    {
     "data": {
      "text/plain": [
       "<AxesSubplot:xlabel='submission_date'>"
      ]
     },
     "execution_count": 105,
     "metadata": {},
     "output_type": "execute_result"
    },
    {
     "data": {
      "image/png": "[encoded data removed]",
      "text/plain": [
       "<Figure size 432x288 with 1 Axes>"
      ]
     },
     "metadata": {
      "needs_background": "light"
     },
     "output_type": "display_data"
    }
   ],
   "source": [
    "newcase = COVID19.rolling('7D').new_case.mean()\n",
    "newcase.plot()"
   ]
  },
  {
   "cell_type": "code",
   "execution_count": 104,
   "id": "24387da4",
   "metadata": {},
   "outputs": [
    {
     "data": {
      "text/plain": [
       "Text(0.5, 1.0, 'Weekly Average of US new cases')"
      ]
     },
     "execution_count": 104,
     "metadata": {},
     "output_type": "execute_result"
    },
    {
     "data": {
      "image/png": "[encoded data removed]",
      "text/plain": [
       "<Figure size 1440x720 with 1 Axes>"
      ]
     },
     "metadata": {
      "needs_background": "light"
     },
     "output_type": "display_data"
    }
   ],
   "source": [
    "COVID19_datasorted = COVID19.sort_index()\n",
    "\n",
    "data = COVID19_datasorted['new_case'].groupby('submission_date').sum()\n",
    "data_WRA = data.rolling(pd.Timedelta('7D')).mean()\n",
    "\n",
    "plt.figure(figsize=(20,10))\n",
    "data_WRA.plot(color='purple',label='Weekly rolling average')\n",
    "plt.legend(loc=1,fontsize=15)\n",
    "plt.xlabel('week', fontsize=15)\n",
    "plt.grid()\n",
    "plt.title('Weekly Average of US new cases',fontsize=20)"
   ]
  },
  {
   "cell_type": "code",
   "execution_count": null,
   "id": "3b4a9092",
   "metadata": {},
   "outputs": [],
   "source": [
    "# 5 - Concluding remarks and inferential analysis based on weekly rolling average trend analysis.  \n",
    "# A brief paragraph summarizing your observations."
   ]
  },
  {
   "cell_type": "code",
   "execution_count": null,
   "id": "242457c2",
   "metadata": {},
   "outputs": [],
   "source": [
    "# The above graph shows weekly rolling average of new COVID19 cases from the year of 2020 to 2022 March.\n",
    "# The weekly rolling average is important since it updates the average of a data set to include all the data in teh set until that point.\n",
    "# The weekly rolling average shows the data smoother which can be a better idea of the long term trend in traffic.\n",
    "# The trend of the weekly rolling average is clearly showing that the average of the new COVID19 cases is on the rise overall from the winter season of 2020 to 2021. \n",
    "# However, the nwe cases increase appears to be accelerating starting the middle of the year of 2021, and December of 2022.\n"
   ]
  }
 ],
 "metadata": {
  "kernelspec": {
   "display_name": "Python 3 (ipykernel)",
   "language": "python",
   "name": "python3"
  },
  "language_info": {
   "codemirror_mode": {
    "name": "ipython",
    "version": 3
   },
   "file_extension": ".py",
   "mimetype": "text/x-python",
   "name": "python",
   "nbconvert_exporter": "python",
   "pygments_lexer": "ipython3",
   "version": "3.9.7"
  }
 },
 "nbformat": 4,
 "nbformat_minor": 5
}
